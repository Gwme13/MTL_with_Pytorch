{
  "cells": [
    {
      "cell_type": "markdown",
      "metadata": {
        "id": "HNhqbKXboviV"
      },
      "source": [
        "# Didactic Exploration of Multi-Task vs. Single-Task Learning on CIFAR-10\n",
        "\n",
        "## 1. Introduction\n",
        "\n",
        "In deep learning, we often train models to perform a single, specific task, this is **Single-Task Learning (STL)**. However, many real-world problems benefit from learning multiple related tasks simultaneously. This approach, known as **Multi-Task Learning (MTL)**, aims to improve a model's generalization capabilities and learning efficiency by leveraging shared knowledge across tasks. The underlying hypothesis is that learning related tasks together can act as a form of **inductive transfer** or regularization, leading to more robust representations.\n",
        "\n",
        "This notebook provides a hands-on, didactic comparison between STL and different MTL strategies. We will use the **CIFAR-10** dataset as our foundation and build models based on the classic **AlexNet** architecture. Our goal is not necessarily to achieve state-of-the-art results, but rather to understand the *mechanisms* and *behaviors* of these learning paradigms.\n",
        "\n",
        "### 1.1. Chosen Tasks\n",
        "\n",
        "We define two distinct tasks using the CIFAR-10 dataset:\n",
        "\n",
        "1.  **Task 1 (T1): Multi-class Object Classification**: The standard CIFAR-10 challenge: classifying an image into one of its 10 categories (e.g., airplane, dog, cat). This is our primary task.\n",
        "2.  **Task 2 (T2): Rotation Classification**: A custom task – determining if an input image has been rotated by 0°, 90°, 180°, or 270°. This task focuses more on orientation and low-level features.\n",
        "\n",
        "We *intentionally* chose these tasks because they are uncorrelated. Will learning about image orientation help in classifying objects, or will it interfere?\n",
        "\n",
        "### 1.2. Learning Approaches\n",
        "\n",
        "We will implement and compare three distinct learning approaches:\n",
        "\n",
        "1.  **Single-Task Learning (STL)**: Our baseline. We train two *completely independent* AlexNet models, one for each task.\n",
        "2.  **Hard Parameter Sharing MTL**:  We use *one* AlexNet model with a shared backbone and two *separate* classification heads. This forces tasks to share the same underlying representation.\n",
        "3.  **Soft Parameter Sharing MTL (Cross-Stitch Networks)**: A more flexible approach. We use *two* AlexNet models but insert \"Cross-Stitch\" units between certain layers. These units *learn* how to linearly combine features from both networks, allowing for an adaptive, 'soft' sharing of information.\n",
        "\n",
        "### 1.3. Learning Objectives\n",
        "\n",
        "By working through this notebook, we will:\n",
        "\n",
        "1. Understand the core concepts of Multi-Task Learning and how it differs from Single-Task Learning.\n",
        "2. Explore the benefits and challenges of Hard and Soft parameter sharing in MTL.\n",
        "3. Analyze the performance of STL vs. MTL approaches on CIFAR-10."
      ]
    },
    {
      "cell_type": "code",
      "execution_count": 1,
      "metadata": {
        "colab": {
          "base_uri": "https://localhost:8080/"
        },
        "id": "cgmBUmhBoviX",
        "outputId": "3e88030f-2793-4f2d-e72b-e01c83efba0d"
      },
      "outputs": [
        {
          "output_type": "stream",
          "name": "stdout",
          "text": [
            "Using device: cuda\n"
          ]
        }
      ],
      "source": [
        "# ===================================================================\n",
        "# Setup: Import Libraries and Configure the Environment\n",
        "# ===================================================================\n",
        "# Here, we import all necessary libraries and configure our setup,\n",
        "# including setting up PyTorch to use a GPU if available and ensuring\n",
        "# reproducibility through random seeds.\n",
        "# ===================================================================\n",
        "\n",
        "import torch\n",
        "import torch.nn as nn\n",
        "import torch.optim as optim\n",
        "from torch.utils.data import DataLoader, random_split\n",
        "import torchvision\n",
        "import torchvision.transforms as transforms\n",
        "\n",
        "import numpy as np\n",
        "import matplotlib.pyplot as plt\n",
        "import matplotlib.ticker as mtick\n",
        "import random\n",
        "from PIL import Image\n",
        "\n",
        "\n",
        "# -------------------------------------------\n",
        "# Configuration and Reproducibility\n",
        "# -------------------------------------------\n",
        "\n",
        "# Set a random seed for PyTorch, NumPy, and Python's random module.\n",
        "# This helps in making our experiments reproducible. While deep learning\n",
        "# training can have inherent randomness (especially on GPUs), setting\n",
        "# seeds makes it *more* likely to get similar results across runs.\n",
        "SEED = 42\n",
        "torch.manual_seed(SEED)\n",
        "np.random.seed(SEED)\n",
        "random.seed(SEED)\n",
        "if torch.cuda.is_available():\n",
        "    torch.cuda.manual_seed_all(SEED)\n",
        "\n",
        "# -------------------------------------------\n",
        "# Device Configuration (GPU vs. CPU)\n",
        "# -------------------------------------------\n",
        "\n",
        "# We check if a CUDA-enabled GPU is available. If so, we set our 'device'\n",
        "# to 'cuda'; otherwise, we use the 'cpu'. Training deep learning models\n",
        "# is significantly faster on GPUs. The .to(device) method will be used\n",
        "# later to move our models and data to the chosen device.\n",
        "device = torch.device(\"cuda\" if torch.cuda.is_available() else \"cpu\")\n",
        "print(f\"Using device: {device}\")\n",
        "\n",
        "# -------------------------------------------\n",
        "# Hyperparameters and Constants\n",
        "# -------------------------------------------\n",
        "\n",
        "# Define key hyperparameters for our training process.\n",
        "BATCH_SIZE = 128   # How many samples per batch to load.\n",
        "NUM_EPOCHS = 1   # Number of complete passes through the training dataset.\n",
        "LEARNING_RATE = 1e-3 # Controls how much we adjust model weights during training.\n",
        "NUM_CLASSES_T1 = 10 # CIFAR-10 has 10 classes (Task 1).\n",
        "NUM_CLASSES_T2 = 4  # Rotation task has 4 classes (0, 90, 180, 270 degrees).\n",
        "\n"
      ]
    },
    {
      "cell_type": "markdown",
      "metadata": {
        "id": "6FDAwa5ErlsD"
      },
      "source": [
        "## 2. Data Preparation: CIFAR-10 Dataset\n",
        "\n",
        "We need to load the CIFAR-10 dataset and prepare it for our two distinct tasks. This involves creating a custom PyTorch `Dataset` that can serve data for both tasks simultaneously.\n",
        "\n",
        "In PyTorch, the creation of custom datasets is easy. This is primarily accomplished by **extending the base `torch.utils.data.Dataset` class**. The core requirement is to override two essential methods:\n",
        "* `__len__(self)`: This method should return the total number of samples in the dataset.\n",
        "* `__getitem__(self, idx)`: This method is responsible for loading and returning a single sample from the dataset given an index `idx`.\n",
        "\n",
        "In PyTorch, typically, **class labels are represented as integer indices** (zero-based). This integer representation is the standard expectation for many of PyTorch's loss functions, such as `torch.nn.CrossEntropyLoss`. The standard CIFAR-10 dataset provides class labels in this format, where each class is represented by an integer from 0 to 9. Indeed, for the new task we will also use integer labels (0 for 0° rotation, 1 for 90°, etc.). This consistency allows us to use the standard classification loss functions without any additional conversion steps.\n",
        "\n",
        "### 2.1. MultiTaskCIFAR10\n"
      ]
    },
    {
      "cell_type": "code",
      "execution_count": 2,
      "metadata": {
        "id": "V4AoCadssMTX"
      },
      "outputs": [],
      "source": [
        "class MultiTaskCIFAR10(torchvision.datasets.CIFAR10):\n",
        "    \"\"\"\n",
        "    CIFAR-10 expanded for two tasks:\n",
        "      - Task 1: classify into 10 CIFAR-10 object classes\n",
        "      - Task 2: classify rotation into 4 angles (0°, 90°, 180°, 270°)\n",
        "\n",
        "    Each original image is repeated 4 times, once per rotation angle.\n",
        "    \"\"\"\n",
        "\n",
        "    def __init__(self, root, train=True, download=True, transform=None):\n",
        "        super().__init__(root, train=train, download=download,\n",
        "                         transform=None, target_transform=None)\n",
        "        self.transform = transform\n",
        "        # Define the rotation angles\n",
        "        self.angles = [0, 90, 180, 270]\n",
        "        # Expanded length = 4 × number of original images\n",
        "        # Tells PyTorch how many samples the new dataset has (4× more than CIFAR-10).\n",
        "        self.expanded_len = len(self.data) * len(self.angles)\n",
        "\n",
        "    def __len__(self):\n",
        "        # Return the expanded dataset size\n",
        "        return self.expanded_len\n",
        "\n",
        "    def __getitem__(self, idx):\n",
        "        # Picks one of the 50,000 original images.\n",
        "        angle_idx = idx % 4\n",
        "        # Picks one of the four rotations.\n",
        "        orig_idx  = idx // 4\n",
        "\n",
        "        # Load the original image as a PIL.Image\n",
        "        img = Image.fromarray(self.data[orig_idx])\n",
        "\n",
        "        # Get the original CIFAR-10 class label (0–9)\n",
        "        class_label = self.targets[orig_idx]\n",
        "\n",
        "        # Rotate the image without changing its size (32×32)\n",
        "        angle = self.angles[angle_idx]\n",
        "        img = img.rotate(angle, expand=False)\n",
        "\n",
        "        # Apply any final transforms (ToTensor, Normalize, etc.)\n",
        "        if self.transform is not None:\n",
        "            img = self.transform(img)\n",
        "\n",
        "        # Rotation label is simply angle_idx (0..3)\n",
        "        rotation_label = angle_idx\n",
        "\n",
        "        # Return (image, class_label, rotation_label)\n",
        "        return img, class_label, rotation_label"
      ]
    },
    {
      "cell_type": "code",
      "execution_count": 3,
      "metadata": {
        "colab": {
          "base_uri": "https://localhost:8080/"
        },
        "id": "-hKZapwHBaJf",
        "outputId": "718f8050-95cb-4756-a7c5-ce87ee87bb52"
      },
      "outputs": [
        {
          "output_type": "stream",
          "name": "stderr",
          "text": [
            "100%|██████████| 170M/170M [00:05<00:00, 30.8MB/s]\n"
          ]
        },
        {
          "output_type": "stream",
          "name": "stdout",
          "text": [
            "Number of training samples: 200000\n",
            "Number of test samples: 40000\n"
          ]
        }
      ],
      "source": [
        "# -------------------------------------------\n",
        "# Create Dataset Instances\n",
        "# -------------------------------------------\n",
        "# We create instances of our custom dataset for both training and validation.\n",
        "train_dataset = MultiTaskCIFAR10(root='./data/', train=True, download=True)\n",
        "test_dataset = MultiTaskCIFAR10(root='./data/', train=False, download=True)\n",
        "\n",
        "print(f\"Number of training samples: {len(train_dataset)}\")\n",
        "print(f\"Number of test samples: {len(test_dataset)}\")"
      ]
    },
    {
      "cell_type": "code",
      "execution_count": 4,
      "metadata": {
        "colab": {
          "base_uri": "https://localhost:8080/"
        },
        "id": "0wkV3ok9BdrA",
        "outputId": "fbb7e36b-db8b-436a-d0de-a33d70e9c53d"
      },
      "outputs": [
        {
          "output_type": "stream",
          "name": "stdout",
          "text": [
            "Mean: [0.49139968 0.48215841 0.44653091], Std.:[0.24703223 0.24348513 0.26158784]\n"
          ]
        }
      ],
      "source": [
        "mean = train_dataset.data.mean(axis=(0, 1, 2))/255\n",
        "std = train_dataset.data.std(axis=(0, 1, 2))/255\n",
        "\n",
        "print(f'Mean: {mean}, Std.:{std}')"
      ]
    },
    {
      "cell_type": "markdown",
      "metadata": {
        "id": "EYj_br-Ztuim"
      },
      "source": [
        "**Note**: `ToTensor()` converts a PIL image or NumPy array into a float `torch.Tensor` with channels-first ordering and scales pixel values to [0, 1]. We then use `Normalize()` to adjust these tensor values based on the dataset's mean and standard deviation. This entire transformation process makes the data compatible with PyTorch models and helps optimize training."
      ]
    },
    {
      "cell_type": "code",
      "execution_count": 5,
      "metadata": {
        "id": "ua0DoO2MAGbe"
      },
      "outputs": [],
      "source": [
        "# Define the transformation pipeline including ToTensor and Normalize\n",
        "transform_pipeline = transforms.Compose([\n",
        "    transforms.ToTensor(),  # Converts image to Tensor and scales to [0, 1]\n",
        "    transforms.Normalize(\n",
        "        mean=mean,  # CIFAR-10 Mean\n",
        "        std=std    # CIFAR-10 Std. Dev.\n",
        "    )\n",
        "])"
      ]
    },
    {
      "cell_type": "markdown",
      "metadata": {
        "id": "EIM6HNQUDvqO"
      },
      "source": [
        "**Important Note:** The mean and standard deviation values used for `Normalize` must **always** be calculated using **only the training dataset**. This is crucial to prevent *data leakage* – where information from the test or validation sets inadvertently influences the training process – and ensures a fair and realistic evaluation of the model's performance on unseen data."
      ]
    },
    {
      "cell_type": "code",
      "execution_count": 6,
      "metadata": {
        "colab": {
          "base_uri": "https://localhost:8080/"
        },
        "id": "DBVr-1mutq3Z",
        "outputId": "7da42f6d-d3a9-4dac-f34c-18fd905e1560"
      },
      "outputs": [
        {
          "output_type": "stream",
          "name": "stdout",
          "text": [
            "Number of training samples: 200000\n",
            "Number of tes samples: 40000\n"
          ]
        }
      ],
      "source": [
        "# -------------------------------------------\n",
        "# Create Dataset Instances\n",
        "# -------------------------------------------\n",
        "# We create instances of our custom dataset for both training and validation.\n",
        "train_dataset = MultiTaskCIFAR10(root='./data/', train=True, transform=transform_pipeline, download=True)\n",
        "test_dataset = MultiTaskCIFAR10(root='./data/', train=False, transform=transform_pipeline, download=True)\n",
        "\n",
        "print(f\"Number of training samples: {len(train_dataset)}\")\n",
        "print(f\"Number of tes samples: {len(test_dataset)}\")\n",
        "\n",
        "# -------------------------------------------\n",
        "# Create DataLoaders\n",
        "# -------------------------------------------\n",
        "# DataLoaders are PyTorch utilities that provide an iterable over a dataset.\n",
        "# They handle batching, shuffling, and can use multiple worker processes\n",
        "# to load data in parallel, which is crucial for efficient GPU utilization.\n",
        "train_loader = DataLoader(\n",
        "    dataset=train_dataset,\n",
        "    batch_size=BATCH_SIZE,\n",
        "    shuffle=True,  # Shuffling the data is important for training to prevent model bias and improve generalization.\n",
        ")\n",
        "\n",
        "test_loader = DataLoader(\n",
        "    dataset=test_dataset,\n",
        "    batch_size=BATCH_SIZE,\n",
        "    shuffle=False, # No need to shuffle the validation/test set.\n",
        ")"
      ]
    },
    {
      "cell_type": "markdown",
      "metadata": {
        "id": "SqQTFnmTttLV"
      },
      "source": [
        "### 2.2 Validation Set\n",
        "We will use a 10% of our training dataset as a validation set. This set will be used to evaluate the model's performance during training, allowing us to monitor for overfitting.\n"
      ]
    },
    {
      "cell_type": "code",
      "execution_count": 7,
      "metadata": {
        "id": "yFm-MG7EuQgh"
      },
      "outputs": [],
      "source": [
        "# 90% for training, 10% for validation\n",
        "val_size   = int(0.1 * len(train_dataset))\n",
        "train_size = len(train_dataset) - val_size\n",
        "\n",
        "# Split with a fixed seed for reproducibility\n",
        "train_dataset, val_dataset = random_split(\n",
        "    train_dataset,\n",
        "    [train_size, val_size],\n",
        "    generator=torch.Generator().manual_seed(SEED)\n",
        ")"
      ]
    },
    {
      "cell_type": "markdown",
      "metadata": {
        "id": "X10GQd9YuhrM"
      },
      "source": [
        "### 2.3 Visualize a Sample Batch\n",
        "Before moving on, let's visualize a sample batch from our dataset to ensure everything is set up correctly. This will help us confirm that our custom dataset works as expected and that the images are correctly transformed and labeled for both tasks.\n",
        "\n"
      ]
    },
    {
      "cell_type": "code",
      "execution_count": 8,
      "metadata": {
        "colab": {
          "base_uri": "https://localhost:8080/",
          "height": 525
        },
        "id": "oZFop2VhvCfL",
        "outputId": "1e9bcf91-76fa-4e9b-fe93-bbb5c922c8f7"
      },
      "outputs": [
        {
          "output_type": "stream",
          "name": "stdout",
          "text": [
            "\n",
            "Visualize a sample batch...\n"
          ]
        },
        {
          "output_type": "display_data",
          "data": {
            "text/plain": [
              "<Figure size 1400x600 with 8 Axes>"
            ],
            "image/png": "[encoded data removed]"
          },
          "metadata": {}
        }
      ],
      "source": [
        "# -------------------------------------------\n",
        "# Visualize a Sample Batch\n",
        "# -------------------------------------------\n",
        "# We visualize a few samples to ensure\n",
        "# the data loading and transformations are working as expected.\n",
        "\n",
        "def imshow(img):\n",
        "    \"\"\"Helper function to display an image.\"\"\"\n",
        "    npimg = img.numpy() # Covert the image to Numpy array\n",
        "    plt.imshow(np.transpose(npimg, (1, 2, 0)))  # from [C, H, W] to [H, W, C]\n",
        "    plt.axis('off')\n",
        "\n",
        "print(\"\\nVisualize a sample batch...\")\n",
        "\n",
        "# Get one batch of training images.\n",
        "dataiter = iter(train_loader)\n",
        "images, labels_t1, labels_t2 = next(dataiter)\n",
        "\n",
        "# CIFAR-10 class labels\n",
        "class_names = ['airplane', 'automobile', 'bird', 'cat', 'deer',\n",
        "               'dog', 'frog', 'horse', 'ship', 'truck']\n",
        "# Task 2 labesl\n",
        "rotation_labels = ['0°', '90°', '180°', '270°']\n",
        "\n",
        "\n",
        "def imshow_denorm(img, mean, std):\n",
        "    \"\"\"Helper function to de-normalize and display an image.\"\"\"\n",
        "\n",
        "    # Ensure std and mean are in [C, 1, 1] shape for broadcasting\n",
        "    std = torch.tensor(std).view(3, 1, 1)\n",
        "    mean = torch.tensor(mean).view(3, 1, 1)\n",
        "\n",
        "    # De-normalize: img * std + mean\n",
        "    img = img * std + mean\n",
        "\n",
        "    # Clip to [0, 1] to handle potential floating point inaccuracies\n",
        "    # and ensure it's a valid range for imshow\n",
        "    img = torch.clamp(img, 0, 1)\n",
        "\n",
        "    # Convert to NumPy and transpose\n",
        "    npimg = img.numpy()\n",
        "    plt.imshow(np.transpose(npimg, (1, 2, 0))) # from [C, H, W] to [H, W, C]\n",
        "    plt.axis('off')\n",
        "\n",
        "\n",
        "# Plot each image in a 2x4 grid with corresponding labels\n",
        "# We will show just 8 samples\n",
        "plt.figure(figsize=(14, 6))\n",
        "for idx in range(len(images[:8])):\n",
        "    plt.subplot(2, 4, idx+1)\n",
        "    imshow_denorm(images[idx], mean, std)\n",
        "    title = f\"{class_names[labels_t1[idx]]}\\nRotation: {rotation_labels[labels_t2[idx]]}\"\n",
        "    plt.title(title, fontsize=10)\n",
        "plt.tight_layout()\n",
        "plt.show()"
      ]
    },
    {
      "cell_type": "markdown",
      "metadata": {
        "id": "IpK7SiJ2J8DH"
      },
      "source": [
        "## 3. Architectures\n",
        "To define the architectures we will use, which are based on **AlexNet**, we need:\n",
        "1.  A base `AlexNet` class.\n",
        "2.  A `HardMTL` class implementing hard parameter sharing.\n",
        "3.  A `CrossStitchUnit` and `CrossStitchNetwork` class for soft parameter sharing.\n",
        "4.  A `SingleTask` class for single-task learning.\n"
      ]
    },
    {
      "cell_type": "markdown",
      "metadata": {
        "id": "wN40IvIoO7YA"
      },
      "source": [
        "### 3.1. Base AlexNet"
      ]
    },
    {
      "cell_type": "code",
      "execution_count": 9,
      "metadata": {
        "id": "qEuVxdJaKfZX"
      },
      "outputs": [],
      "source": [
        "class AlexNet(nn.Module):\n",
        "    \"\"\"\n",
        "    Implementation of the AlexNet architecture, adapted for CIFAR-10.\n",
        "    \"\"\"\n",
        "    def __init__(self, num_outputs=10):\n",
        "        \"\"\"\n",
        "        Initializes the AlexNet model.\n",
        "\n",
        "        Args:\n",
        "            num_outputs (int): The number of output neurons in the final layer.\n",
        "                               This will depend on the task (10 for T1, 4 for T2).\n",
        "        \"\"\"\n",
        "        super(AlexNet, self).__init__() # Always call the parent constructor.\n",
        "\n",
        "        # --- Feature Extractor (Convolutional Layers) ---\n",
        "        # This part extracts features from the input image.\n",
        "        self.features = nn.Sequential(\n",
        "            # Layer 1: Conv -> ReLU -> MaxPool\n",
        "            nn.Conv2d(3, 64, kernel_size=3, stride=1, padding=1), # CIFAR-10 is small (32x32), so we adapt AlexNet.\n",
        "            nn.ReLU(inplace=True), # ReLU (Rectified Linear Unit) is a common activation function. 'inplace=True' saves memory.\n",
        "            nn.MaxPool2d(kernel_size=2, stride=2), # Max-pooling reduces spatial dimensions, providing some translation invariance.\n",
        "\n",
        "            # Layer 2: Conv -> ReLU -> MaxPool\n",
        "            nn.Conv2d(64, 192, kernel_size=3, padding=1),\n",
        "            nn.ReLU(inplace=True),\n",
        "            nn.MaxPool2d(kernel_size=2, stride=2),\n",
        "\n",
        "            # Layer 3: Conv -> ReLU\n",
        "            nn.Conv2d(192, 384, kernel_size=3, padding=1),\n",
        "            nn.ReLU(inplace=True),\n",
        "\n",
        "            # Layer 4: Conv -> ReLU\n",
        "            nn.Conv2d(384, 256, kernel_size=3, padding=1),\n",
        "            nn.ReLU(inplace=True),\n",
        "\n",
        "            # Layer 5: Conv -> ReLU -> MaxPool\n",
        "            nn.Conv2d(256, 256, kernel_size=3, padding=1),\n",
        "            nn.ReLU(inplace=True),\n",
        "            nn.MaxPool2d(kernel_size=2, stride=2),\n",
        "        )\n",
        "\n",
        "        # --- Classifier (Fully-Connected Layers) ---\n",
        "        # This part takes the extracted features and performs classification.\n",
        "        self.classifier = nn.Sequential(\n",
        "            nn.Dropout(0.5), # Dropout is a regularization technique to prevent overfitting. It randomly sets some activations to 0.\n",
        "            nn.Linear(256 * 4 * 4, 1024), # Linear (fully-connected) layer. Input size = channels * height * width.\n",
        "            nn.ReLU(inplace=True),\n",
        "\n",
        "            nn.Dropout(0.5),\n",
        "            nn.Linear(1024, 1024),\n",
        "            nn.ReLU(inplace=True),\n",
        "\n",
        "            nn.Linear(1024, num_outputs), # The final output layer, size depends on the task.\n",
        "        )\n",
        "\n",
        "    def forward(self, x):\n",
        "        \"\"\"\n",
        "        Defines the forward pass of the network.\n",
        "\n",
        "        Args:\n",
        "            x (torch.Tensor): The input tensor (batch of images).\n",
        "\n",
        "        Returns:\n",
        "            torch.Tensor: The output tensor (logits for each class).\n",
        "        \"\"\"\n",
        "        # Pass through feature extractor.\n",
        "        x = self.features(x)\n",
        "        # Flatten the output for the classifier.\n",
        "        # torch.flatten(x, 1) flattens all dimensions except the batch dimension (dim 0).\n",
        "        x = torch.flatten(x, 1)\n",
        "        # Pass through classifier.\n",
        "        logits = self.classifier(x)\n",
        "        return logits"
      ]
    },
    {
      "cell_type": "markdown",
      "metadata": {
        "id": "i7k0F84rLXYL"
      },
      "source": [
        "### 3.2. Hard Parameter Sharing MTL (`HardMTL`)\n",
        "\n",
        "This model leverages the PyTorch submodule `features` defined in the base `AlexNet` class, as a shared backbone for both tasks. Then, each task has its own classification head. The forward method processes the input through the shared backbone and then through the respective task-specific heads."
      ]
    },
    {
      "cell_type": "code",
      "execution_count": 10,
      "metadata": {
        "id": "Y6bvHhHoLntw"
      },
      "outputs": [],
      "source": [
        "class HardMTL(nn.Module):\n",
        "    \"\"\"\n",
        "    Implements a Hard Parameter Sharing Multi-Task Learning model\n",
        "    using AlexNet as the base.\n",
        "    \"\"\"\n",
        "    def __init__(self):\n",
        "        super(HardMTL, self).__init__()\n",
        "        # --- Shared Feature Extractor ---\n",
        "        # We take the feature extractor directly from the base AlexNet.\n",
        "        # These weights will be updated by gradients from BOTH tasks.\n",
        "        self.features = AlexNet().features\n",
        "\n",
        "        # --- Task-Specific Classifiers ---\n",
        "        # We create two separate classifiers, one for each task.\n",
        "        # We reuse the structure of the AlexNet classifier but adjust the\n",
        "        # final output layer size for each task.\n",
        "        self.classifier_t1 = nn.Sequential(\n",
        "            nn.Dropout(0.5),\n",
        "            nn.Linear(256 * 4 * 4, 1024),\n",
        "            nn.ReLU(inplace=True),\n",
        "            nn.Dropout(0.5),\n",
        "            nn.Linear(1024, 1024),\n",
        "            nn.ReLU(inplace=True),\n",
        "            nn.Linear(1024, NUM_CLASSES_T1), # Output for Task 1\n",
        "        )\n",
        "        self.classifier_t2 = nn.Sequential(\n",
        "            nn.Dropout(0.5),\n",
        "            nn.Linear(256 * 4 * 4, 1024),\n",
        "            nn.ReLU(inplace=True),\n",
        "            nn.Dropout(0.5),\n",
        "            nn.Linear(1024, 1024),\n",
        "            nn.ReLU(inplace=True),\n",
        "            nn.Linear(1024, NUM_CLASSES_T2), # Output for Task 2\n",
        "        )\n",
        "\n",
        "    def forward(self, x):\n",
        "        \"\"\"\n",
        "        Defines the forward pass for the Hard MTL model.\n",
        "\n",
        "        Args:\n",
        "            x (torch.Tensor): The input tensor.\n",
        "\n",
        "        Returns:\n",
        "            tuple: (output_t1, output_t2)\n",
        "                   - output_t1: Logits for Task 1.\n",
        "                   - output_t2: Logits for Task 2.\n",
        "        \"\"\"\n",
        "        # Pass through the shared layers.\n",
        "        x = self.features(x)\n",
        "\n",
        "        x = torch.flatten(x, 1)\n",
        "\n",
        "        # Pass through the task-specific heads.\n",
        "        logits_t1 = self.classifier_t1(x)\n",
        "        logits_t2 = self.classifier_t2(x)\n",
        "\n",
        "        return logits_t1, logits_t2"
      ]
    },
    {
      "cell_type": "markdown",
      "metadata": {
        "id": "3NR_KgYyMHyX"
      },
      "source": [
        "### 3.3. Soft Parameter Sharing (Cross-Stitch Network)\n",
        "Cross-Stitch Networks are a deep learning architectures for Multi-Task Learning (MTL). Their main idea is to let separate networks, each working on a different task, choose how to share and mix information at different layers. This happens using **cross-stitch units** that learn to combine features from both networks through linear combinations. This allows the model to adaptively decide how much information to share between tasks, rather than forcing a fixed sharing strategy."
      ]
    },
    {
      "cell_type": "markdown",
      "metadata": {
        "id": "q4CUhdGRQE97"
      },
      "source": [
        "**Note**: Before moving on, we need to redefine the `AlexNet` class already implemented in this notebook in order to correctly place the cross-stitch units when defining the `CrossStitchNetwork` class.\n",
        "\n",
        "---\n",
        "\n",
        "We will follow the cross-stitch network architecture described in the following paper: [*Cross-Stitch Networks for Multi-Task Learning*](https://arxiv.org/abs/1604.03539).\n"
      ]
    },
    {
      "cell_type": "code",
      "execution_count": 11,
      "metadata": {
        "id": "NLZreP_5P_VP"
      },
      "outputs": [],
      "source": [
        "class AlexNet_mod(nn.Module):\n",
        "    def __init__(self, num_outputs=10):\n",
        "        super(AlexNet_mod, self).__init__()\n",
        "\n",
        "        # Convolutional Block 1 (Conv1 -> ReLU -> MaxPool1)\n",
        "        self.conv_block1 = nn.Sequential(\n",
        "            nn.Conv2d(3, 64, kernel_size=3, stride=1, padding=1),\n",
        "            nn.ReLU(inplace=True),\n",
        "            nn.MaxPool2d(kernel_size=2, stride=2) # Output: B, 64, 16, 16\n",
        "        )\n",
        "        # Convolutional Block 2 (Conv2 -> ReLU -> MaxPool2)\n",
        "        self.conv_block2 = nn.Sequential(\n",
        "            nn.Conv2d(64, 192, kernel_size=3, padding=1),\n",
        "            nn.ReLU(inplace=True),\n",
        "            nn.MaxPool2d(kernel_size=2, stride=2) # Output: B, 192, 8, 8\n",
        "        )\n",
        "        # Convolutional Block 3 (Conv3 -> ReLU -> Conv4 -> ReLU -> Conv5 -> ReLU -> MaxPool3)\n",
        "        self.conv_block3 = nn.Sequential(\n",
        "            nn.Conv2d(192, 384, kernel_size=3, padding=1),\n",
        "            nn.ReLU(inplace=True),\n",
        "            nn.Conv2d(384, 256, kernel_size=3, padding=1),\n",
        "            nn.ReLU(inplace=True),\n",
        "            nn.Conv2d(256, 256, kernel_size=3, padding=1),\n",
        "            nn.ReLU(inplace=True),\n",
        "            nn.MaxPool2d(kernel_size=2, stride=2) # Output: B, 256, 4, 4\n",
        "        )\n",
        "\n",
        "        # Classifier Fully-Connected Block 1\n",
        "        self.fc_block1 = nn.Sequential(\n",
        "            nn.Dropout(0.5),\n",
        "            nn.Linear(256 * 4 * 4, 1024),\n",
        "            nn.ReLU(inplace=True) # Output: B, 1024\n",
        "        )\n",
        "        # Classifier Fully-Connected Block 2\n",
        "        self.fc_block2 = nn.Sequential(\n",
        "            nn.Dropout(0.5),\n",
        "            nn.Linear(1024, 1024),\n",
        "            nn.ReLU(inplace=True) # Output: B, 1024\n",
        "        )\n",
        "        # Final Output Layer\n",
        "        self.output_layer = nn.Linear(1024, num_outputs)\n",
        "\n",
        "    def forward(self, x):\n",
        "        x = self.conv_block1(x)\n",
        "        x = self.conv_block2(x)\n",
        "        x = self.conv_block3(x)\n",
        "        x = torch.flatten(x, 1)\n",
        "        x = self.fc_block1(x)\n",
        "        x = self.fc_block2(x)\n",
        "        logits = self.output_layer(x)\n",
        "        return logits"
      ]
    },
    {
      "cell_type": "markdown",
      "metadata": {
        "id": "71QaXzHw-Fln"
      },
      "source": [
        "#### 3.3.1. Cross-Stitch Unit\n",
        "\n",
        "Cross-Stitch Unit controls the degree of information sharing between tasks. Let's break down how it works in the context of our two-task learning:\n",
        "\n",
        "- Consider a specific layer, $l$ in the network where we want to apply the Cross-Stitch unit. At this layer, we have two branches: Branch A for Task A and Branch B for Task B. Branch A provides its current feature representation, $x_A^{(l)}$, and Branch B provides its feature representation, $x_B^{(l)}$. The Cross-Stitch unit takes these two inputs and computes new, updated feature representations for each branch: $\\tilde{x}_A^{(l)}$ for Branch A and $\\tilde{x}_B^{(l)}$ for Branch B. These updated features then proceed to the subsequent layers within their respective branches.\n",
        "\n",
        "- For two-task learning, the cross-stitch unit is $2 \\times 2$ matrix, and it works as follows:\n",
        "\n",
        "$$\n",
        "\\begin{bmatrix} \\tilde{x}_A^{(l)} \\\\ \\tilde{x}_B^{(l)} \\end{bmatrix} =\n",
        "\\begin{bmatrix} \\alpha_{AA}^{(l)} & \\alpha_{AB}^{(l)} \\\\ \\alpha_{BA}^{(l)} & \\alpha_{BB}^{(l)} \\end{bmatrix}\n",
        "\\begin{bmatrix} x_A^{(l)} \\\\ x_B^{(l)} \\end{bmatrix}\n",
        "$$\n",
        "\n",
        "Where:\n",
        "\n",
        "* **$\\alpha_{AA}^{(l)}$ and $\\alpha_{BB}^{(l)}$ (Same-Task Weights):** Control how much of the original information from Task A ($x_A^{(l)}$) remains within Branch A, and similarly for Task B ($x_B^{(l)}$) within Branch B.\n",
        "* **$\\alpha_{AB}^{(l)}$ and $\\alpha_{BA}^{(l)}$ (Different-Task Weights):** Control the information exchange *between* the two tasks. Specifically, $\\alpha_{AB}^{(l)}$ determines how much of Task B's information ($x_B^{(l)}$) is incorporated into Task A's updated features ($\\tilde{x}_A^{(l)}$). Conversely, $\\alpha_{BA}^{(l)}$ controls how much of Task A's information ($x_A^{(l)}$) influences Task B's updated features ($\\tilde{x}_B^{(l)}$).\n",
        "\n",
        "The $\\alpha$ parameters can be fixed or learned during training. In this notebook, we will learn them during training, allowing the model to adaptively determine how much information to share between tasks."
      ]
    },
    {
      "cell_type": "code",
      "execution_count": 12,
      "metadata": {
        "id": "wDY0q6yNNidR"
      },
      "outputs": [],
      "source": [
        "class CrossStitchUnit(nn.Module):\n",
        "    \"\"\"\n",
        "    Implements a Cross-Stitch unit.\n",
        "    This unit learns a 2x2 matrix (alpha) to linearly combine the\n",
        "    feature maps from two task-specific networks.\n",
        "    \"\"\"\n",
        "    def __init__(self):\n",
        "        \"\"\"\n",
        "        Initializes the Cross-Stitch unit.\n",
        "        \"\"\"\n",
        "        super(CrossStitchUnit, self).__init__()\n",
        "        # --- Learnable Alpha Matrix ---\n",
        "        # nn.Parameter tells PyTorch that this tensor should be considered\n",
        "        # a model parameter, meaning it should be tracked for gradients\n",
        "        # and updated during training by the optimizer.\n",
        "        # We use a 2x2 matrix because we have two tasks.\n",
        "        # We initialize all values to 0.5\n",
        "        self.alpha = nn.Parameter(torch.ones(2, 2) * 0.5)\n",
        "\n",
        "    def forward(self, x1, x2):\n",
        "        \"\"\"\n",
        "        Performs the cross-stitch operation.\n",
        "\n",
        "        Args:\n",
        "            x1 (torch.Tensor): Feature map from Task 1's network.\n",
        "            x2 (torch.Tensor): Feature map from Task 2's network.\n",
        "\n",
        "        Returns:\n",
        "            tuple: (out1, out2)\n",
        "                   - out1: Combined feature map for Task 1.\n",
        "                   - out2: Combined feature map for Task 2.\n",
        "        \"\"\"\n",
        "        # Apply softmax to the alpha matrix to ensure the weights sum to 1.\n",
        "        alpha = torch.softmax(self.alpha, dim=1) # Softmax along the rows (dim=1)\n",
        "\n",
        "        # Perform the cross-stitch operation\n",
        "        out1 = alpha[0, 0] * x1 + alpha[0, 1] * x2\n",
        "        out2 = alpha[1, 0] * x1 + alpha[1, 1] * x2\n",
        "        return out1, out2\n"
      ]
    },
    {
      "cell_type": "markdown",
      "metadata": {
        "id": "HstidpmRYl4G"
      },
      "source": [
        "#### 3.3.2. CrossStitchNetwork\n",
        "The architecture of the Cross-Stitch Network we will implement is based on the the following figure, which shows how the cross-stitch units are placed between the layers of the AlexNet architecture.\n",
        "\n",
        "<div align=\"center\">\n",
        "  <img src=\"https://github.com/Gwme13/MTL_with_Pytorch/blob/main/images/AlexNet-Cross-Stitch.PNG?raw=1\" alt=\"Cross-Stitch Network Architecture\" width=\"600\">\n",
        "</div>\n",
        "\n",
        "---\n",
        "Misra, I., Shrivastava, A., Gupta, A., & Hebert, M. (2016). *Cross-stitch Networks for Multi-task Learning*. arXiv:1604.03539. [https://arxiv.org/abs/1604.03539](https://arxiv.org/abs/1604.03539)"
      ]
    },
    {
      "cell_type": "code",
      "execution_count": 13,
      "metadata": {
        "id": "_gPZAuQ7UAhW"
      },
      "outputs": [],
      "source": [
        "class CrossStitchNetwork(nn.Module):\n",
        "    \"\"\"\n",
        "    Implements a Cross-Stitch Network using two modified AlexNet backbones,\n",
        "    with cross-stitch layers applied after every pooling and FC layer.\n",
        "    \"\"\"\n",
        "    def __init__(self):\n",
        "        super(CrossStitchNetwork, self).__init__()\n",
        "\n",
        "        self.task1_net = AlexNet_mod(num_outputs=NUM_CLASSES_T1)\n",
        "        self.task2_net = AlexNet_mod(num_outputs=NUM_CLASSES_T2)\n",
        "\n",
        "        # --- Cross-Stitch Layers ---\n",
        "        self.cs_pool1 = CrossStitchUnit()\n",
        "        self.cs_pool2 = CrossStitchUnit()\n",
        "        self.cs_pool3 = CrossStitchUnit()\n",
        "\n",
        "        self.cs_fc1 = CrossStitchUnit()\n",
        "        self.cs_fc2 = CrossStitchUnit()\n",
        "\n",
        "\n",
        "    def forward(self, x):\n",
        "        \"\"\"\n",
        "        Defines the forward pass for the Cross-Stitch Network.\n",
        "        Args:\n",
        "            x (torch.Tensor): The input tensor.\n",
        "        Returns:\n",
        "            tuple: (out1, out2) - Logits for Task 1 and Task 2.\n",
        "        \"\"\"\n",
        "        # --- Initial Input ---\n",
        "        # Both networks process the same input initially\n",
        "        x_t1 = x\n",
        "        x_t2 = x\n",
        "\n",
        "        # --- Conv Block 1 (includes Pool1) ---\n",
        "        x_t1_p1 = self.task1_net.conv_block1(x_t1)\n",
        "        x_t2_p1 = self.task2_net.conv_block1(x_t2)\n",
        "\n",
        "        x_t1_p1_cs, x_t2_p1_cs = self.cs_pool1(x_t1_p1, x_t2_p1)\n",
        "\n",
        "        # --- Conv Block 2 (includes Pool2) ---\n",
        "        x_t1_p2 = self.task1_net.conv_block2(x_t1_p1_cs)\n",
        "        x_t2_p2 = self.task2_net.conv_block2(x_t2_p1_cs)\n",
        "\n",
        "        x_t1_p2_cs, x_t2_p2_cs = self.cs_pool2(x_t1_p2, x_t2_p2)\n",
        "\n",
        "        # --- Conv Block 3 (includes Pool3) ---\n",
        "        x_t1_p3 = self.task1_net.conv_block3(x_t1_p2_cs)\n",
        "        x_t2_p3 = self.task2_net.conv_block3(x_t2_p2_cs)\n",
        "\n",
        "        x_t1_p3_cs, x_t2_p3_cs = self.cs_pool3(x_t1_p3, x_t2_p3)\n",
        "\n",
        "        # Flatten for Classifier\n",
        "        x_t1_flat = torch.flatten(x_t1_p3_cs, 1)\n",
        "        x_t2_flat = torch.flatten(x_t2_p3_cs, 1)\n",
        "\n",
        "        # --- FC Block 1 ---\n",
        "        x_t1_fc1 = self.task1_net.fc_block1(x_t1_flat)\n",
        "        x_t2_fc1 = self.task2_net.fc_block1(x_t2_flat)\n",
        "\n",
        "        x_t1_fc1_cs, x_t2_fc1_cs = self.cs_fc1(x_t1_fc1, x_t2_fc1)\n",
        "\n",
        "        # --- FC Block 2 ---\n",
        "        x_t1_fc2 = self.task1_net.fc_block2(x_t1_fc1_cs)\n",
        "        x_t2_fc2 = self.task2_net.fc_block2(x_t2_fc1_cs)\n",
        "\n",
        "        x_t1_fc2_cs, x_t2_fc2_cs = self.cs_fc2(x_t1_fc2, x_t2_fc2)\n",
        "\n",
        "        # --- Final Output Layers ---\n",
        "        logits_t1 = self.task1_net.output_layer(x_t1_fc2_cs)\n",
        "        logits_t2 = self.task2_net.output_layer(x_t2_fc2_cs)\n",
        "\n",
        "        return logits_t1, logits_t2\n"
      ]
    },
    {
      "cell_type": "markdown",
      "metadata": {
        "id": "NFcxzydGPfjJ"
      },
      "source": [
        "### 3.4. Single-Task Learning (`SingleTask`)\n",
        "\n",
        "This is simply a wrapper around the base `AlexNet` to fit into our training framework easily."
      ]
    },
    {
      "cell_type": "code",
      "execution_count": 14,
      "metadata": {
        "id": "unTsY9UgPknF"
      },
      "outputs": [],
      "source": [
        "class SingleTask(nn.Module):\n",
        "    \"\"\"\n",
        "    A simple wrapper for AlexNet to represent a Single-Task Learning model.\n",
        "    \"\"\"\n",
        "    def __init__(self, num_outputs):\n",
        "        super(SingleTask, self).__init__()\n",
        "        self.model = AlexNet(num_outputs=num_outputs)\n",
        "\n",
        "    def forward(self, x):\n",
        "        return self.model(x)"
      ]
    },
    {
      "cell_type": "markdown",
      "metadata": {
        "id": "vkbOQMVkVmdk"
      },
      "source": [
        "## 4. Training and Evaluation Utilities\n",
        "\n",
        "We define functions to handle the training and evaluation loops. This keeps our main code cleaner and avoids repetition. We need separate functions for MTL (handling two outputs and losses) and STL (handling one).\n",
        "\n",
        "**Key PyTorch Steps in Training:**\n",
        "\n",
        "1.  `model.train()`: Sets the model to training mode (enables dropout, batch norm updates, etc.).\n",
        "2.  `optimizer.zero_grad()`: Clears old gradients before calculating new ones.\n",
        "3.  `outputs = model(inputs)`: Performs the forward pass.\n",
        "4.  `loss = criterion(outputs, labels)`: Calculates the loss.\n",
        "5.  `loss.backward()`: Computes gradients of the loss w.r.t. model parameters.\n",
        "6.  `optimizer.step()`: Updates model parameters using the computed gradients and the chosen optimization algorithm.\n",
        "\n",
        "**Key PyTorch Steps in Evaluation:**\n",
        "\n",
        "1.  `model.eval()`: Sets the model to evaluation mode (disables dropout, etc.).\n",
        "2.  `with torch.no_grad()`: Disables gradient calculation, saving memory and computation, as we don't need gradients during evaluation.\n"
      ]
    },
    {
      "cell_type": "code",
      "execution_count": 15,
      "metadata": {
        "id": "hXFCwtc7WOmV"
      },
      "outputs": [],
      "source": [
        "# Define the loss function. CrossEntropyLoss is standard for classification.\n",
        "# It combines LogSoftmax and NLLLoss in one class.\n",
        "criterion = nn.CrossEntropyLoss()\n",
        "\n",
        "def generic_train_epoch_mtl(model, loader, optimizer, criterion, device, epoch_num):\n",
        "    \"\"\"\n",
        "    Trains an MTL model for one epoch.\n",
        "    \"\"\"\n",
        "    model.train() # Set model to training mode\n",
        "    running_total_loss = 0.0\n",
        "    running_loss_t1 = 0.0\n",
        "    running_loss_t2 = 0.0\n",
        "    running_corrects_t1 = 0\n",
        "    running_corrects_t2 = 0\n",
        "    total_samples = 0\n",
        "\n",
        "    for inputs, labels_t1, labels_t2 in loader:\n",
        "        # Move data to the selected device (GPU/CPU)\n",
        "        inputs, labels_t1, labels_t2 = inputs.to(device), labels_t1.to(device), labels_t2.to(device)\n",
        "\n",
        "        # --- Forward Pass ---\n",
        "        optimizer.zero_grad() # Zero the parameter gradients\n",
        "        outputs_t1, outputs_t2 = model(inputs) # Get model outputs\n",
        "\n",
        "        # --- Loss Calculation ---\n",
        "        loss_t1 = criterion(outputs_t1, labels_t1)\n",
        "        loss_t2 = criterion(outputs_t2, labels_t2)\n",
        "        # Simple MTL loss: Sum of individual task losses.\n",
        "        # More advanced methods might weigh these differently.\n",
        "        total_loss = loss_t1 + loss_t2\n",
        "\n",
        "        # --- Backward Pass & Optimization ---\n",
        "        total_loss.backward() # Compute gradients\n",
        "        optimizer.step() # Update weights\n",
        "\n",
        "        # --- Statistics ---\n",
        "        _, preds_t1 = torch.max(outputs_t1, 1) # Get predicted class index (highest logit)\n",
        "        _, preds_t2 = torch.max(outputs_t2, 1)\n",
        "\n",
        "        running_total_loss += total_loss.item() * images.size(0)\n",
        "        running_loss_t1 += loss_t1.item() * inputs.size(0)\n",
        "        running_loss_t2 += loss_t2.item() * inputs.size(0)\n",
        "\n",
        "        running_corrects_t1 += torch.sum(preds_t1 == labels_t1.data)\n",
        "        running_corrects_t2 += torch.sum(preds_t2 == labels_t2.data)\n",
        "\n",
        "        total_samples += inputs.size(0)\n",
        "\n",
        "    epoch_total_loss = running_total_loss / total_samples\n",
        "    epoch_loss_t1 = running_loss_t1 / total_samples\n",
        "    epoch_acc_t1 = running_corrects_t1.double() / total_samples\n",
        "    epoch_loss_t2 = running_loss_t2 / total_samples\n",
        "    epoch_acc_t2 = running_corrects_t2.double() / total_samples\n",
        "\n",
        "    print(f\"Training, Epoch {epoch_num}:\\n- Loss: {epoch_total_loss:.4f}\\n- T1: Loss: {epoch_loss_t1:.4f} - Acc: {epoch_acc_t1*100:.2f}%\\n\"\n",
        "          f\"- T2: Loss: {epoch_loss_t2:.4f} - Acc: {epoch_acc_t2*100:.2f}%\")\n",
        "\n",
        "    return epoch_total_loss, epoch_loss_t1, epoch_acc_t1.item(), epoch_loss_t2, epoch_acc_t2.item()\n",
        "\n",
        "\n",
        "def generic_evaluate_epoch_mtl(model, loader, criterion, device, epoch_num, phase=\"Validation\"):\n",
        "    \"\"\"\n",
        "    Evaluates an MTL model for one epoch.\n",
        "    \"\"\"\n",
        "    model.eval() # Set model to evaluation mode\n",
        "    running_total_loss = 0.0\n",
        "    running_loss_t1 = 0.0\n",
        "    running_loss_t2 = 0.0\n",
        "    running_corrects_t1 = 0\n",
        "    running_corrects_t2 = 0\n",
        "    total_samples = 0\n",
        "\n",
        "    with torch.no_grad(): # Disable gradient calculations\n",
        "        for inputs, labels_t1, labels_t2 in loader:\n",
        "            inputs, labels_t1, labels_t2 = inputs.to(device), labels_t1.to(device), labels_t2.to(device)\n",
        "\n",
        "            outputs_t1, outputs_t2 = model(inputs)\n",
        "            loss_t1 = criterion(outputs_t1, labels_t1)\n",
        "            loss_t2 = criterion(outputs_t2, labels_t2)\n",
        "\n",
        "            total_loss = loss_t1 + loss_t2\n",
        "\n",
        "            _, preds_t1 = torch.max(outputs_t1, 1)\n",
        "            _, preds_t2 = torch.max(outputs_t2, 1)\n",
        "\n",
        "            running_total_loss += total_loss.item() * images.size(0)\n",
        "            running_loss_t1 += loss_t1.item() * inputs.size(0)\n",
        "            running_loss_t2 += loss_t2.item() * inputs.size(0)\n",
        "\n",
        "            running_corrects_t1 += torch.sum(preds_t1 == labels_t1.data)\n",
        "            running_corrects_t2 += torch.sum(preds_t2 == labels_t2.data)\n",
        "\n",
        "            total_samples += inputs.size(0)\n",
        "\n",
        "    epoch_total_loss = running_total_loss / total_samples\n",
        "    epoch_loss_t1 = running_loss_t1 / total_samples\n",
        "    epoch_acc_t1 = running_corrects_t1.double() / total_samples\n",
        "    epoch_loss_t2 = running_loss_t2 / total_samples\n",
        "    epoch_acc_t2 = running_corrects_t2.double() / total_samples\n",
        "\n",
        "    print(f\"{phase}{f', Epoch {epoch_num}:' if epoch_num else ''}\\n- Loss: {epoch_total_loss:.4f}\\n- T1: Loss: {epoch_loss_t1:.4f} - Acc: {epoch_acc_t1*100:.2f}%\\n\"\n",
        "          f\"- T2: Loss: {epoch_loss_t2:.4f} - Acc: {epoch_acc_t2*100:.2f}%\")\n",
        "\n",
        "    return epoch_total_loss, epoch_loss_t1, epoch_acc_t1.item(), epoch_loss_t2, epoch_acc_t2.item()\n",
        "\n",
        "\n",
        "# --- Functions for STL ---\n",
        "# These are similar but simpler as they only handle one task.\n",
        "def generic_train_epoch_stl(model, loader, optimizer, criterion, device, task_id, epoch_num):\n",
        "    model.train()\n",
        "    running_loss = 0.0\n",
        "    running_corrects = 0\n",
        "    total_samples = 0\n",
        "\n",
        "    for inputs, labels_t1, labels_t2 in loader:\n",
        "        labels = labels_t1 if task_id == \"task1\" else labels_t2\n",
        "        inputs, labels = inputs.to(device), labels.to(device)\n",
        "\n",
        "        optimizer.zero_grad()\n",
        "        outputs = model(inputs)\n",
        "        loss = criterion(outputs, labels)\n",
        "        loss.backward()\n",
        "        optimizer.step()\n",
        "\n",
        "        _, preds = torch.max(outputs, 1)\n",
        "        running_loss += loss.item() * inputs.size(0)\n",
        "        running_corrects += torch.sum(preds == labels.data)\n",
        "        total_samples += inputs.size(0)\n",
        "\n",
        "    epoch_loss = running_loss / total_samples\n",
        "    epoch_acc = running_corrects.double() / total_samples\n",
        "\n",
        "    print(f\"Training, Epoch {epoch_num}:\\n- Loss: {epoch_loss:.4f} - Acc: {epoch_acc*100:.2f}%\")\n",
        "    return epoch_loss, epoch_acc.item()\n",
        "\n",
        "\n",
        "def generic_evaluate_epoch_stl(model, loader, criterion, device, task_id, epoch_num, phase=\"Validation\"):\n",
        "    model.eval()\n",
        "    running_loss = 0.0\n",
        "    running_corrects = 0\n",
        "    total_samples = 0\n",
        "\n",
        "    with torch.no_grad():\n",
        "        for inputs, labels_t1, labels_t2 in loader:\n",
        "            labels = labels_t1 if task_id == \"task1\" else labels_t2\n",
        "            inputs, labels = inputs.to(device), labels.to(device)\n",
        "\n",
        "            outputs = model(inputs)\n",
        "            loss = criterion(outputs, labels)\n",
        "\n",
        "            _, preds = torch.max(outputs, 1)\n",
        "            running_loss += loss.item() * inputs.size(0)\n",
        "            running_corrects += torch.sum(preds == labels.data)\n",
        "            total_samples += inputs.size(0)\n",
        "\n",
        "    epoch_loss = running_loss / total_samples\n",
        "    epoch_acc = running_corrects.double() / total_samples\n",
        "\n",
        "    print(f\"{phase}{f', Epoch {epoch_num}: ' if epoch_num else ''}\\n- Loss: {epoch_loss:.4f} - Acc: {epoch_acc*100:.2f}%\")\n",
        "    return epoch_loss, epoch_acc.item()"
      ]
    },
    {
      "cell_type": "code",
      "execution_count": 16,
      "metadata": {
        "id": "rvzcqOPtbGwd"
      },
      "outputs": [],
      "source": [
        "# --- Generic Training Loop ---\n",
        "def train_model(model, train_loader, val_loader, optimizer, criterion, device, num_epochs, model_type, save_path, task_id=None, alpha_history_list=None):\n",
        "    \"\"\"\n",
        "    A generic function to train either MTL or STL models.\n",
        "    \"\"\"\n",
        "    best_validation_loss = float('inf')\n",
        "    history = {'train_loss': [], 'train_acc': [], 'val_loss': [], 'val_acc': []}\n",
        "    if model_type == 'mtl':\n",
        "        history = {'train_loss': [], 'val_loss': [], 'train_loss_t1': [], 'train_acc_t1': [], 'val_loss_t1': [], 'val_acc_t1': [],\n",
        "                   'train_loss_t2': [], 'train_acc_t2': [], 'val_loss_t2': [], 'val_acc_t2': []}\n",
        "\n",
        "    for epoch in range(1, num_epochs + 1):\n",
        "        if model_type == 'mtl':\n",
        "            train_loss, train_loss_t1, train_acc_t1, train_loss_t2, train_acc_t2 = generic_train_epoch_mtl(\n",
        "                model, train_loader, optimizer, criterion, device, epoch\n",
        "            )\n",
        "            val_loss, val_loss_t1, val_acc_t1, val_loss_t2, val_acc_t2 = generic_evaluate_epoch_mtl(\n",
        "                model, val_loader, criterion, device, epoch\n",
        "            )\n",
        "\n",
        "            history['train_loss_t1'].append(train_loss_t1)\n",
        "            history['train_acc_t1'].append(train_acc_t1)\n",
        "            history['val_loss_t1'].append(val_loss_t1)\n",
        "            history['val_acc_t1'].append(val_acc_t1)\n",
        "            history['train_loss_t2'].append(train_loss_t2)\n",
        "            history['train_acc_t2'].append(train_acc_t2)\n",
        "            history['val_loss_t2'].append(val_loss_t2)\n",
        "            history['val_acc_t2'].append(val_acc_t2)\n",
        "\n",
        "            history['train_loss'].append(train_loss)\n",
        "            history['val_loss'].append(val_loss)\n",
        "\n",
        "            current_validation_loss = val_loss\n",
        "\n",
        "        else: # STL\n",
        "            train_loss, train_acc = generic_train_epoch_stl(\n",
        "                model, train_loader, optimizer, criterion, device, task_id, epoch\n",
        "            )\n",
        "            val_loss, val_acc = generic_evaluate_epoch_stl(\n",
        "                model, val_loader, criterion, device, task_id, epoch\n",
        "            )\n",
        "\n",
        "            history['train_loss'].append(train_loss)\n",
        "            history['train_acc'].append(train_acc)\n",
        "            history['val_loss'].append(val_loss)\n",
        "            history['val_acc'].append(val_acc)\n",
        "\n",
        "            current_validation_loss = val_loss\n",
        "\n",
        "        # Save alpha values if training Cross-Stitch\n",
        "        if alpha_history_list is not None and isinstance(model, CrossStitchNetwork):\n",
        "            alpha_history_list[0].append(model.cs_pool1.alpha.data.cpu().numpy().copy())\n",
        "            alpha_history_list[1].append(model.cs_pool2.alpha.data.cpu().numpy().copy())\n",
        "            alpha_history_list[2].append(model.cs_pool3.alpha.data.cpu().numpy().copy())\n",
        "\n",
        "            alpha_history_list[3].append(model.cs_fc1.alpha.data.cpu().numpy().copy())\n",
        "            alpha_history_list[4].append(model.cs_fc2.alpha.data.cpu().numpy().copy())\n",
        "\n",
        "        # Save the best model based on validation loss\n",
        "        if current_validation_loss < best_validation_loss:\n",
        "            best_validation_loss = current_validation_loss\n",
        "            torch.save(model.state_dict(), save_path)\n",
        "\n",
        "    return history"
      ]
    },
    {
      "cell_type": "markdown",
      "metadata": {
        "id": "KeP58lx_bWqL"
      },
      "source": [
        "## 4. Training The Models\n",
        "\n",
        "Now we put everything together and train each of our models: Hard MTL, Cross-Stitch MTL, and the two STL models."
      ]
    },
    {
      "cell_type": "markdown",
      "metadata": {
        "id": "DHn0sMSFgQZO"
      },
      "source": [
        "### 4.1. Hard Parameter Sharing MTL Training\n",
        "\n",
        "We instantiate the `HardMTL` model, move it to the configured device, set up the Adam optimizer, and start the training loop."
      ]
    },
    {
      "cell_type": "code",
      "execution_count": 17,
      "metadata": {
        "colab": {
          "base_uri": "https://localhost:8080/",
          "height": 367
        },
        "id": "TvYJm9e_blxX",
        "outputId": "755882d6-0fc4-4300-811d-97fe60ec8aa7"
      },
      "outputs": [
        {
          "output_type": "stream",
          "name": "stdout",
          "text": [
            "--- Training Hard Parameter Sharing MTL ---\n"
          ]
        },
        {
          "output_type": "error",
          "ename": "KeyboardInterrupt",
          "evalue": "",
          "traceback": [
            "\u001b[0;31m---------------------------------------------------------------------------\u001b[0m",
            "\u001b[0;31mKeyboardInterrupt\u001b[0m                         Traceback (most recent call last)",
            "\u001b[0;32m<ipython-input-17-5253257d5820>\u001b[0m in \u001b[0;36m<cell line: 0>\u001b[0;34m()\u001b[0m\n\u001b[1;32m      3\u001b[0m \u001b[0moptimizer_hard_mtl\u001b[0m \u001b[0;34m=\u001b[0m \u001b[0moptim\u001b[0m\u001b[0;34m.\u001b[0m\u001b[0mAdam\u001b[0m\u001b[0;34m(\u001b[0m\u001b[0mmodel_hard_mtl\u001b[0m\u001b[0;34m.\u001b[0m\u001b[0mparameters\u001b[0m\u001b[0;34m(\u001b[0m\u001b[0;34m)\u001b[0m\u001b[0;34m,\u001b[0m \u001b[0mlr\u001b[0m\u001b[0;34m=\u001b[0m\u001b[0mLEARNING_RATE\u001b[0m\u001b[0;34m)\u001b[0m\u001b[0;34m\u001b[0m\u001b[0;34m\u001b[0m\u001b[0m\n\u001b[1;32m      4\u001b[0m \u001b[0;34m\u001b[0m\u001b[0m\n\u001b[0;32m----> 5\u001b[0;31m history_hard_mtl = train_model(\n\u001b[0m\u001b[1;32m      6\u001b[0m     \u001b[0mmodel_hard_mtl\u001b[0m\u001b[0;34m,\u001b[0m \u001b[0mtrain_loader\u001b[0m\u001b[0;34m,\u001b[0m \u001b[0mtest_loader\u001b[0m\u001b[0;34m,\u001b[0m \u001b[0moptimizer_hard_mtl\u001b[0m\u001b[0;34m,\u001b[0m \u001b[0mcriterion\u001b[0m\u001b[0;34m,\u001b[0m\u001b[0;34m\u001b[0m\u001b[0;34m\u001b[0m\u001b[0m\n\u001b[1;32m      7\u001b[0m     \u001b[0mdevice\u001b[0m\u001b[0;34m,\u001b[0m \u001b[0mNUM_EPOCHS\u001b[0m\u001b[0;34m,\u001b[0m \u001b[0;34m'mtl'\u001b[0m\u001b[0;34m,\u001b[0m \u001b[0;34m'best_alexnet_hard_mtl_model.pt'\u001b[0m\u001b[0;34m\u001b[0m\u001b[0;34m\u001b[0m\u001b[0m\n",
            "\u001b[0;32m<ipython-input-16-d2dee67520b8>\u001b[0m in \u001b[0;36mtrain_model\u001b[0;34m(model, train_loader, val_loader, optimizer, criterion, device, num_epochs, model_type, save_path, task_id, alpha_history_list)\u001b[0m\n\u001b[1;32m     12\u001b[0m     \u001b[0;32mfor\u001b[0m \u001b[0mepoch\u001b[0m \u001b[0;32min\u001b[0m \u001b[0mrange\u001b[0m\u001b[0;34m(\u001b[0m\u001b[0;36m1\u001b[0m\u001b[0;34m,\u001b[0m \u001b[0mnum_epochs\u001b[0m \u001b[0;34m+\u001b[0m \u001b[0;36m1\u001b[0m\u001b[0;34m)\u001b[0m\u001b[0;34m:\u001b[0m\u001b[0;34m\u001b[0m\u001b[0;34m\u001b[0m\u001b[0m\n\u001b[1;32m     13\u001b[0m         \u001b[0;32mif\u001b[0m \u001b[0mmodel_type\u001b[0m \u001b[0;34m==\u001b[0m \u001b[0;34m'mtl'\u001b[0m\u001b[0;34m:\u001b[0m\u001b[0;34m\u001b[0m\u001b[0;34m\u001b[0m\u001b[0m\n\u001b[0;32m---> 14\u001b[0;31m             train_loss, train_loss_t1, train_acc_t1, train_loss_t2, train_acc_t2 = generic_train_epoch_mtl(\n\u001b[0m\u001b[1;32m     15\u001b[0m                 \u001b[0mmodel\u001b[0m\u001b[0;34m,\u001b[0m \u001b[0mtrain_loader\u001b[0m\u001b[0;34m,\u001b[0m \u001b[0moptimizer\u001b[0m\u001b[0;34m,\u001b[0m \u001b[0mcriterion\u001b[0m\u001b[0;34m,\u001b[0m \u001b[0mdevice\u001b[0m\u001b[0;34m,\u001b[0m \u001b[0mepoch\u001b[0m\u001b[0;34m\u001b[0m\u001b[0;34m\u001b[0m\u001b[0m\n\u001b[1;32m     16\u001b[0m             )\n",
            "\u001b[0;32m<ipython-input-15-9f65308b7ae9>\u001b[0m in \u001b[0;36mgeneric_train_epoch_mtl\u001b[0;34m(model, loader, optimizer, criterion, device, epoch_num)\u001b[0m\n\u001b[1;32m     15\u001b[0m     \u001b[0mtotal_samples\u001b[0m \u001b[0;34m=\u001b[0m \u001b[0;36m0\u001b[0m\u001b[0;34m\u001b[0m\u001b[0;34m\u001b[0m\u001b[0m\n\u001b[1;32m     16\u001b[0m \u001b[0;34m\u001b[0m\u001b[0m\n\u001b[0;32m---> 17\u001b[0;31m     \u001b[0;32mfor\u001b[0m \u001b[0minputs\u001b[0m\u001b[0;34m,\u001b[0m \u001b[0mlabels_t1\u001b[0m\u001b[0;34m,\u001b[0m \u001b[0mlabels_t2\u001b[0m \u001b[0;32min\u001b[0m \u001b[0mloader\u001b[0m\u001b[0;34m:\u001b[0m\u001b[0;34m\u001b[0m\u001b[0;34m\u001b[0m\u001b[0m\n\u001b[0m\u001b[1;32m     18\u001b[0m         \u001b[0;31m# Move data to the selected device (GPU/CPU)\u001b[0m\u001b[0;34m\u001b[0m\u001b[0;34m\u001b[0m\u001b[0m\n\u001b[1;32m     19\u001b[0m         \u001b[0minputs\u001b[0m\u001b[0;34m,\u001b[0m \u001b[0mlabels_t1\u001b[0m\u001b[0;34m,\u001b[0m \u001b[0mlabels_t2\u001b[0m \u001b[0;34m=\u001b[0m \u001b[0minputs\u001b[0m\u001b[0;34m.\u001b[0m\u001b[0mto\u001b[0m\u001b[0;34m(\u001b[0m\u001b[0mdevice\u001b[0m\u001b[0;34m)\u001b[0m\u001b[0;34m,\u001b[0m \u001b[0mlabels_t1\u001b[0m\u001b[0;34m.\u001b[0m\u001b[0mto\u001b[0m\u001b[0;34m(\u001b[0m\u001b[0mdevice\u001b[0m\u001b[0;34m)\u001b[0m\u001b[0;34m,\u001b[0m \u001b[0mlabels_t2\u001b[0m\u001b[0;34m.\u001b[0m\u001b[0mto\u001b[0m\u001b[0;34m(\u001b[0m\u001b[0mdevice\u001b[0m\u001b[0;34m)\u001b[0m\u001b[0;34m\u001b[0m\u001b[0;34m\u001b[0m\u001b[0m\n",
            "\u001b[0;32m/usr/local/lib/python3.11/dist-packages/torch/utils/data/dataloader.py\u001b[0m in \u001b[0;36m__next__\u001b[0;34m(self)\u001b[0m\n\u001b[1;32m    706\u001b[0m                 \u001b[0;31m# TODO(https://github.com/pytorch/pytorch/issues/76750)\u001b[0m\u001b[0;34m\u001b[0m\u001b[0;34m\u001b[0m\u001b[0m\n\u001b[1;32m    707\u001b[0m                 \u001b[0mself\u001b[0m\u001b[0;34m.\u001b[0m\u001b[0m_reset\u001b[0m\u001b[0;34m(\u001b[0m\u001b[0;34m)\u001b[0m  \u001b[0;31m# type: ignore[call-arg]\u001b[0m\u001b[0;34m\u001b[0m\u001b[0;34m\u001b[0m\u001b[0m\n\u001b[0;32m--> 708\u001b[0;31m             \u001b[0mdata\u001b[0m \u001b[0;34m=\u001b[0m \u001b[0mself\u001b[0m\u001b[0;34m.\u001b[0m\u001b[0m_next_data\u001b[0m\u001b[0;34m(\u001b[0m\u001b[0;34m)\u001b[0m\u001b[0;34m\u001b[0m\u001b[0;34m\u001b[0m\u001b[0m\n\u001b[0m\u001b[1;32m    709\u001b[0m             \u001b[0mself\u001b[0m\u001b[0;34m.\u001b[0m\u001b[0m_num_yielded\u001b[0m \u001b[0;34m+=\u001b[0m \u001b[0;36m1\u001b[0m\u001b[0;34m\u001b[0m\u001b[0;34m\u001b[0m\u001b[0m\n\u001b[1;32m    710\u001b[0m             if (\n",
            "\u001b[0;32m/usr/local/lib/python3.11/dist-packages/torch/utils/data/dataloader.py\u001b[0m in \u001b[0;36m_next_data\u001b[0;34m(self)\u001b[0m\n\u001b[1;32m    762\u001b[0m     \u001b[0;32mdef\u001b[0m \u001b[0m_next_data\u001b[0m\u001b[0;34m(\u001b[0m\u001b[0mself\u001b[0m\u001b[0;34m)\u001b[0m\u001b[0;34m:\u001b[0m\u001b[0;34m\u001b[0m\u001b[0;34m\u001b[0m\u001b[0m\n\u001b[1;32m    763\u001b[0m         \u001b[0mindex\u001b[0m \u001b[0;34m=\u001b[0m \u001b[0mself\u001b[0m\u001b[0;34m.\u001b[0m\u001b[0m_next_index\u001b[0m\u001b[0;34m(\u001b[0m\u001b[0;34m)\u001b[0m  \u001b[0;31m# may raise StopIteration\u001b[0m\u001b[0;34m\u001b[0m\u001b[0;34m\u001b[0m\u001b[0m\n\u001b[0;32m--> 764\u001b[0;31m         \u001b[0mdata\u001b[0m \u001b[0;34m=\u001b[0m \u001b[0mself\u001b[0m\u001b[0;34m.\u001b[0m\u001b[0m_dataset_fetcher\u001b[0m\u001b[0;34m.\u001b[0m\u001b[0mfetch\u001b[0m\u001b[0;34m(\u001b[0m\u001b[0mindex\u001b[0m\u001b[0;34m)\u001b[0m  \u001b[0;31m# may raise StopIteration\u001b[0m\u001b[0;34m\u001b[0m\u001b[0;34m\u001b[0m\u001b[0m\n\u001b[0m\u001b[1;32m    765\u001b[0m         \u001b[0;32mif\u001b[0m \u001b[0mself\u001b[0m\u001b[0;34m.\u001b[0m\u001b[0m_pin_memory\u001b[0m\u001b[0;34m:\u001b[0m\u001b[0;34m\u001b[0m\u001b[0;34m\u001b[0m\u001b[0m\n\u001b[1;32m    766\u001b[0m             \u001b[0mdata\u001b[0m \u001b[0;34m=\u001b[0m \u001b[0m_utils\u001b[0m\u001b[0;34m.\u001b[0m\u001b[0mpin_memory\u001b[0m\u001b[0;34m.\u001b[0m\u001b[0mpin_memory\u001b[0m\u001b[0;34m(\u001b[0m\u001b[0mdata\u001b[0m\u001b[0;34m,\u001b[0m \u001b[0mself\u001b[0m\u001b[0;34m.\u001b[0m\u001b[0m_pin_memory_device\u001b[0m\u001b[0;34m)\u001b[0m\u001b[0;34m\u001b[0m\u001b[0;34m\u001b[0m\u001b[0m\n",
            "\u001b[0;32m/usr/local/lib/python3.11/dist-packages/torch/utils/data/_utils/fetch.py\u001b[0m in \u001b[0;36mfetch\u001b[0;34m(self, possibly_batched_index)\u001b[0m\n\u001b[1;32m     50\u001b[0m                 \u001b[0mdata\u001b[0m \u001b[0;34m=\u001b[0m \u001b[0mself\u001b[0m\u001b[0;34m.\u001b[0m\u001b[0mdataset\u001b[0m\u001b[0;34m.\u001b[0m\u001b[0m__getitems__\u001b[0m\u001b[0;34m(\u001b[0m\u001b[0mpossibly_batched_index\u001b[0m\u001b[0;34m)\u001b[0m\u001b[0;34m\u001b[0m\u001b[0;34m\u001b[0m\u001b[0m\n\u001b[1;32m     51\u001b[0m             \u001b[0;32melse\u001b[0m\u001b[0;34m:\u001b[0m\u001b[0;34m\u001b[0m\u001b[0;34m\u001b[0m\u001b[0m\n\u001b[0;32m---> 52\u001b[0;31m                 \u001b[0mdata\u001b[0m \u001b[0;34m=\u001b[0m \u001b[0;34m[\u001b[0m\u001b[0mself\u001b[0m\u001b[0;34m.\u001b[0m\u001b[0mdataset\u001b[0m\u001b[0;34m[\u001b[0m\u001b[0midx\u001b[0m\u001b[0;34m]\u001b[0m \u001b[0;32mfor\u001b[0m \u001b[0midx\u001b[0m \u001b[0;32min\u001b[0m \u001b[0mpossibly_batched_index\u001b[0m\u001b[0;34m]\u001b[0m\u001b[0;34m\u001b[0m\u001b[0;34m\u001b[0m\u001b[0m\n\u001b[0m\u001b[1;32m     53\u001b[0m         \u001b[0;32melse\u001b[0m\u001b[0;34m:\u001b[0m\u001b[0;34m\u001b[0m\u001b[0;34m\u001b[0m\u001b[0m\n\u001b[1;32m     54\u001b[0m             \u001b[0mdata\u001b[0m \u001b[0;34m=\u001b[0m \u001b[0mself\u001b[0m\u001b[0;34m.\u001b[0m\u001b[0mdataset\u001b[0m\u001b[0;34m[\u001b[0m\u001b[0mpossibly_batched_index\u001b[0m\u001b[0;34m]\u001b[0m\u001b[0;34m\u001b[0m\u001b[0;34m\u001b[0m\u001b[0m\n",
            "\u001b[0;32m/usr/local/lib/python3.11/dist-packages/torch/utils/data/_utils/fetch.py\u001b[0m in \u001b[0;36m<listcomp>\u001b[0;34m(.0)\u001b[0m\n\u001b[1;32m     50\u001b[0m                 \u001b[0mdata\u001b[0m \u001b[0;34m=\u001b[0m \u001b[0mself\u001b[0m\u001b[0;34m.\u001b[0m\u001b[0mdataset\u001b[0m\u001b[0;34m.\u001b[0m\u001b[0m__getitems__\u001b[0m\u001b[0;34m(\u001b[0m\u001b[0mpossibly_batched_index\u001b[0m\u001b[0;34m)\u001b[0m\u001b[0;34m\u001b[0m\u001b[0;34m\u001b[0m\u001b[0m\n\u001b[1;32m     51\u001b[0m             \u001b[0;32melse\u001b[0m\u001b[0;34m:\u001b[0m\u001b[0;34m\u001b[0m\u001b[0;34m\u001b[0m\u001b[0m\n\u001b[0;32m---> 52\u001b[0;31m                 \u001b[0mdata\u001b[0m \u001b[0;34m=\u001b[0m \u001b[0;34m[\u001b[0m\u001b[0mself\u001b[0m\u001b[0;34m.\u001b[0m\u001b[0mdataset\u001b[0m\u001b[0;34m[\u001b[0m\u001b[0midx\u001b[0m\u001b[0;34m]\u001b[0m \u001b[0;32mfor\u001b[0m \u001b[0midx\u001b[0m \u001b[0;32min\u001b[0m \u001b[0mpossibly_batched_index\u001b[0m\u001b[0;34m]\u001b[0m\u001b[0;34m\u001b[0m\u001b[0;34m\u001b[0m\u001b[0m\n\u001b[0m\u001b[1;32m     53\u001b[0m         \u001b[0;32melse\u001b[0m\u001b[0;34m:\u001b[0m\u001b[0;34m\u001b[0m\u001b[0;34m\u001b[0m\u001b[0m\n\u001b[1;32m     54\u001b[0m             \u001b[0mdata\u001b[0m \u001b[0;34m=\u001b[0m \u001b[0mself\u001b[0m\u001b[0;34m.\u001b[0m\u001b[0mdataset\u001b[0m\u001b[0;34m[\u001b[0m\u001b[0mpossibly_batched_index\u001b[0m\u001b[0;34m]\u001b[0m\u001b[0;34m\u001b[0m\u001b[0;34m\u001b[0m\u001b[0m\n",
            "\u001b[0;32m<ipython-input-2-d45ffb57bffb>\u001b[0m in \u001b[0;36m__getitem__\u001b[0;34m(self, idx)\u001b[0m\n\u001b[1;32m     40\u001b[0m         \u001b[0;31m# Apply any final transforms (ToTensor, Normalize, etc.)\u001b[0m\u001b[0;34m\u001b[0m\u001b[0;34m\u001b[0m\u001b[0m\n\u001b[1;32m     41\u001b[0m         \u001b[0;32mif\u001b[0m \u001b[0mself\u001b[0m\u001b[0;34m.\u001b[0m\u001b[0mtransform\u001b[0m \u001b[0;32mis\u001b[0m \u001b[0;32mnot\u001b[0m \u001b[0;32mNone\u001b[0m\u001b[0;34m:\u001b[0m\u001b[0;34m\u001b[0m\u001b[0;34m\u001b[0m\u001b[0m\n\u001b[0;32m---> 42\u001b[0;31m             \u001b[0mimg\u001b[0m \u001b[0;34m=\u001b[0m \u001b[0mself\u001b[0m\u001b[0;34m.\u001b[0m\u001b[0mtransform\u001b[0m\u001b[0;34m(\u001b[0m\u001b[0mimg\u001b[0m\u001b[0;34m)\u001b[0m\u001b[0;34m\u001b[0m\u001b[0;34m\u001b[0m\u001b[0m\n\u001b[0m\u001b[1;32m     43\u001b[0m \u001b[0;34m\u001b[0m\u001b[0m\n\u001b[1;32m     44\u001b[0m         \u001b[0;31m# Rotation label is simply angle_idx (0..3)\u001b[0m\u001b[0;34m\u001b[0m\u001b[0;34m\u001b[0m\u001b[0m\n",
            "\u001b[0;32m/usr/local/lib/python3.11/dist-packages/torchvision/transforms/transforms.py\u001b[0m in \u001b[0;36m__call__\u001b[0;34m(self, img)\u001b[0m\n\u001b[1;32m     93\u001b[0m     \u001b[0;32mdef\u001b[0m \u001b[0m__call__\u001b[0m\u001b[0;34m(\u001b[0m\u001b[0mself\u001b[0m\u001b[0;34m,\u001b[0m \u001b[0mimg\u001b[0m\u001b[0;34m)\u001b[0m\u001b[0;34m:\u001b[0m\u001b[0;34m\u001b[0m\u001b[0;34m\u001b[0m\u001b[0m\n\u001b[1;32m     94\u001b[0m         \u001b[0;32mfor\u001b[0m \u001b[0mt\u001b[0m \u001b[0;32min\u001b[0m \u001b[0mself\u001b[0m\u001b[0;34m.\u001b[0m\u001b[0mtransforms\u001b[0m\u001b[0;34m:\u001b[0m\u001b[0;34m\u001b[0m\u001b[0;34m\u001b[0m\u001b[0m\n\u001b[0;32m---> 95\u001b[0;31m             \u001b[0mimg\u001b[0m \u001b[0;34m=\u001b[0m \u001b[0mt\u001b[0m\u001b[0;34m(\u001b[0m\u001b[0mimg\u001b[0m\u001b[0;34m)\u001b[0m\u001b[0;34m\u001b[0m\u001b[0;34m\u001b[0m\u001b[0m\n\u001b[0m\u001b[1;32m     96\u001b[0m         \u001b[0;32mreturn\u001b[0m \u001b[0mimg\u001b[0m\u001b[0;34m\u001b[0m\u001b[0;34m\u001b[0m\u001b[0m\n\u001b[1;32m     97\u001b[0m \u001b[0;34m\u001b[0m\u001b[0m\n",
            "\u001b[0;32m/usr/local/lib/python3.11/dist-packages/torchvision/transforms/transforms.py\u001b[0m in \u001b[0;36m__call__\u001b[0;34m(self, pic)\u001b[0m\n\u001b[1;32m    135\u001b[0m             \u001b[0mTensor\u001b[0m\u001b[0;34m:\u001b[0m \u001b[0mConverted\u001b[0m \u001b[0mimage\u001b[0m\u001b[0;34m.\u001b[0m\u001b[0;34m\u001b[0m\u001b[0;34m\u001b[0m\u001b[0m\n\u001b[1;32m    136\u001b[0m         \"\"\"\n\u001b[0;32m--> 137\u001b[0;31m         \u001b[0;32mreturn\u001b[0m \u001b[0mF\u001b[0m\u001b[0;34m.\u001b[0m\u001b[0mto_tensor\u001b[0m\u001b[0;34m(\u001b[0m\u001b[0mpic\u001b[0m\u001b[0;34m)\u001b[0m\u001b[0;34m\u001b[0m\u001b[0;34m\u001b[0m\u001b[0m\n\u001b[0m\u001b[1;32m    138\u001b[0m \u001b[0;34m\u001b[0m\u001b[0m\n\u001b[1;32m    139\u001b[0m     \u001b[0;32mdef\u001b[0m \u001b[0m__repr__\u001b[0m\u001b[0;34m(\u001b[0m\u001b[0mself\u001b[0m\u001b[0;34m)\u001b[0m \u001b[0;34m->\u001b[0m \u001b[0mstr\u001b[0m\u001b[0;34m:\u001b[0m\u001b[0;34m\u001b[0m\u001b[0;34m\u001b[0m\u001b[0m\n",
            "\u001b[0;32m/usr/local/lib/python3.11/dist-packages/torchvision/transforms/functional.py\u001b[0m in \u001b[0;36mto_tensor\u001b[0;34m(pic)\u001b[0m\n\u001b[1;32m    170\u001b[0m     \u001b[0;32mif\u001b[0m \u001b[0mpic\u001b[0m\u001b[0;34m.\u001b[0m\u001b[0mmode\u001b[0m \u001b[0;34m==\u001b[0m \u001b[0;34m\"1\"\u001b[0m\u001b[0;34m:\u001b[0m\u001b[0;34m\u001b[0m\u001b[0;34m\u001b[0m\u001b[0m\n\u001b[1;32m    171\u001b[0m         \u001b[0mimg\u001b[0m \u001b[0;34m=\u001b[0m \u001b[0;36m255\u001b[0m \u001b[0;34m*\u001b[0m \u001b[0mimg\u001b[0m\u001b[0;34m\u001b[0m\u001b[0;34m\u001b[0m\u001b[0m\n\u001b[0;32m--> 172\u001b[0;31m     \u001b[0mimg\u001b[0m \u001b[0;34m=\u001b[0m \u001b[0mimg\u001b[0m\u001b[0;34m.\u001b[0m\u001b[0mview\u001b[0m\u001b[0;34m(\u001b[0m\u001b[0mpic\u001b[0m\u001b[0;34m.\u001b[0m\u001b[0msize\u001b[0m\u001b[0;34m[\u001b[0m\u001b[0;36m1\u001b[0m\u001b[0;34m]\u001b[0m\u001b[0;34m,\u001b[0m \u001b[0mpic\u001b[0m\u001b[0;34m.\u001b[0m\u001b[0msize\u001b[0m\u001b[0;34m[\u001b[0m\u001b[0;36m0\u001b[0m\u001b[0;34m]\u001b[0m\u001b[0;34m,\u001b[0m \u001b[0mF_pil\u001b[0m\u001b[0;34m.\u001b[0m\u001b[0mget_image_num_channels\u001b[0m\u001b[0;34m(\u001b[0m\u001b[0mpic\u001b[0m\u001b[0;34m)\u001b[0m\u001b[0;34m)\u001b[0m\u001b[0;34m\u001b[0m\u001b[0;34m\u001b[0m\u001b[0m\n\u001b[0m\u001b[1;32m    173\u001b[0m     \u001b[0;31m# put it from HWC to CHW format\u001b[0m\u001b[0;34m\u001b[0m\u001b[0;34m\u001b[0m\u001b[0m\n\u001b[1;32m    174\u001b[0m     \u001b[0mimg\u001b[0m \u001b[0;34m=\u001b[0m \u001b[0mimg\u001b[0m\u001b[0;34m.\u001b[0m\u001b[0mpermute\u001b[0m\u001b[0;34m(\u001b[0m\u001b[0;34m(\u001b[0m\u001b[0;36m2\u001b[0m\u001b[0;34m,\u001b[0m \u001b[0;36m0\u001b[0m\u001b[0;34m,\u001b[0m \u001b[0;36m1\u001b[0m\u001b[0;34m)\u001b[0m\u001b[0;34m)\u001b[0m\u001b[0;34m.\u001b[0m\u001b[0mcontiguous\u001b[0m\u001b[0;34m(\u001b[0m\u001b[0;34m)\u001b[0m\u001b[0;34m\u001b[0m\u001b[0;34m\u001b[0m\u001b[0m\n",
            "\u001b[0;31mKeyboardInterrupt\u001b[0m: "
          ]
        }
      ],
      "source": [
        "print(\"--- Training Hard Parameter Sharing MTL ---\")\n",
        "model_hard_mtl = HardMTL().to(device)\n",
        "optimizer_hard_mtl = optim.Adam(model_hard_mtl.parameters(), lr=LEARNING_RATE)\n",
        "\n",
        "history_hard_mtl = train_model(\n",
        "    model_hard_mtl, train_loader, test_loader, optimizer_hard_mtl, criterion,\n",
        "    device, NUM_EPOCHS, 'mtl', 'best_alexnet_hard_mtl_model.pt'\n",
        ")\n",
        "print(\"--- Hard MTL Training Finished ---\\n\")"
      ]
    },
    {
      "cell_type": "markdown",
      "metadata": {
        "id": "vIpXB4dxgMND"
      },
      "source": [
        "### 4.2. Cross-Stitch Network (Soft Sharing) MTL Training\n",
        "\n",
        "Here, we train the `CrossStitchNetwork`. We also initialize lists to store the `alpha` coefficients from each Cross-Stitch unit during training. This will allow us to visualize how the network learns to share information."
      ]
    },
    {
      "cell_type": "code",
      "execution_count": null,
      "metadata": {
        "id": "O_bjYqDFgibb"
      },
      "outputs": [],
      "source": [
        "print(\"--- Training Cross-Stitch Network MTL ---\")\n",
        "model_cs = CrossStitchNetwork().to(device)\n",
        "optimizer_cs = optim.Adam(model_cs.parameters(), lr=LEARNING_RATE)\n",
        "\n",
        "# Lists to store alpha values (one list per CS layer)\n",
        "alphas_cs1_history = []\n",
        "alphas_cs2_history = []\n",
        "alphas_cs3_history = []\n",
        "alphas_cs4_history = []\n",
        "alphas_cs5_history = []\n",
        "alpha_history_list_cs = [alphas_cs1_history, alphas_cs2_history, alphas_cs3_history, alphas_cs4_history, alphas_cs5_history]\n",
        "\n",
        "history_cs = train_model(\n",
        "    model_cs, train_loader, test_loader, optimizer_cs, criterion,\n",
        "    device, NUM_EPOCHS, 'mtl', 'best_alexnet_cs_model.pt',\n",
        "    alpha_history_list=alpha_history_list_cs\n",
        ")\n",
        "print(\"--- Cross-Stitch Training Finished ---\\n\")"
      ]
    },
    {
      "cell_type": "markdown",
      "metadata": {
        "id": "bP9KSbpzma4d"
      },
      "source": [
        "### 4.3. Single-Task Learning (STL) Training\n",
        "\n",
        "We train two separate models, one for each task."
      ]
    },
    {
      "cell_type": "markdown",
      "metadata": {
        "id": "ezBDg0v9mgsv"
      },
      "source": [
        "#### 4.3.1. STL Task 1 (CIFAR-10 Classification)"
      ]
    },
    {
      "cell_type": "code",
      "execution_count": null,
      "metadata": {
        "id": "YB8E7HyfpJvb"
      },
      "outputs": [],
      "source": [
        "print(\"--- Training STL Task 1 ---\")\n",
        "model_stl_task1 = SingleTask(num_outputs=NUM_CLASSES_T1).to(device)\n",
        "optimizer_stl_task1 = optim.Adam(model_stl_task1.parameters(), lr=LEARNING_RATE)\n",
        "\n",
        "history_stl_task1 = train_model(\n",
        "    model_stl_task1, train_loader, test_loader, optimizer_stl_task1, criterion,\n",
        "    device, NUM_EPOCHS, 'stl', 'best_alexnet_stl_task1_model.pt', task_id='task1'\n",
        ")\n",
        "print(\"--- STL Task 1 Training Finished ---\\n\")"
      ]
    },
    {
      "cell_type": "markdown",
      "metadata": {
        "id": "bfqpoZMypOfE"
      },
      "source": [
        "#### 4.3.2. STL Task 2 (Rotation Classification)"
      ]
    },
    {
      "cell_type": "code",
      "execution_count": null,
      "metadata": {
        "id": "I2VuvClOpR04"
      },
      "outputs": [],
      "source": [
        "print(\"--- Training STL Task 2 ---\")\n",
        "model_stl_task2 = SingleTask(num_outputs=NUM_CLASSES_T2).to(device)\n",
        "optimizer_stl_task2 = optim.Adam(model_stl_task2.parameters(), lr=LEARNING_RATE)\n",
        "\n",
        "history_stl_task2 = train_model(\n",
        "    model_stl_task2, train_loader, test_loader, optimizer_stl_task2, criterion,\n",
        "    device, NUM_EPOCHS, 'stl', 'best_alexnet_stl_task2_model.pt', task_id='task2'\n",
        ")\n",
        "print(\"--- STL Task 2 Training Finished ---\\n\")"
      ]
    },
    {
      "cell_type": "markdown",
      "metadata": {
        "id": "BXt5MuDVpWXi"
      },
      "source": [
        "## 5. Results and Analysis\n",
        "\n",
        "Now that our models are trained, we will analyze their performance. Specifically, we will:\n",
        "\n",
        "1.  Plot training and validation curves (loss and accuracy).\n",
        "2.  Plot the evolution of the alpha coefficients of the Cross-Stitch Network during training.\n",
        "3.  Evaluate models on the test set for a final comparison.\n"
      ]
    },
    {
      "cell_type": "markdown",
      "metadata": {
        "id": "JkRZkqgapmgE"
      },
      "source": [
        "### 5.1. Learning Curves"
      ]
    },
    {
      "cell_type": "code",
      "execution_count": null,
      "metadata": {
        "id": "V_OZRYs5p1nR"
      },
      "outputs": [],
      "source": [
        "def plot_history(history, title, model_type):\n",
        "    \"\"\"Plots the training and validation history with accuracy in percentage (2 decimal places).\"\"\"\n",
        "    epochs_range = range(1, NUM_EPOCHS + 1)\n",
        "\n",
        "    formatter = mtick.FuncFormatter(lambda y, pos: f'{y:.2f}%')\n",
        "\n",
        "    if model_type == 'mtl':\n",
        "        plt.figure(figsize=(14, 10))\n",
        "        plt.suptitle(title, fontsize=16, y=1.02)\n",
        "\n",
        "        # Task 1 - Loss\n",
        "        plt.subplot(2, 2, 1)\n",
        "        plt.plot(epochs_range, history['train_loss_t1'], 'b-', label='Train Loss T1')\n",
        "        plt.plot(epochs_range, history['val_loss_t1'], 'b--', label='Val Loss T1')\n",
        "        plt.title('Task 1 - Loss')\n",
        "        plt.xlabel('Epoch')\n",
        "        plt.ylabel('Loss')\n",
        "        plt.legend()\n",
        "        plt.grid(True)\n",
        "\n",
        "        # Task 1 - Accuracy (%)\n",
        "        plt.subplot(2, 2, 2)\n",
        "        plt.plot(epochs_range, [acc * 100 for acc in history['train_acc_t1']], 'g-', label='Train Acc T1')\n",
        "        plt.plot(epochs_range, [acc * 100 for acc in history['val_acc_t1']], 'g--', label='Val Acc T1')\n",
        "        plt.title('Task 1 - Accuracy')\n",
        "        plt.xlabel('Epoch')\n",
        "        plt.ylabel('Accuracy (%)')\n",
        "        plt.gca().yaxis.set_major_formatter(formatter)\n",
        "        plt.legend()\n",
        "        plt.grid(True)\n",
        "\n",
        "        # Task 2 - Loss\n",
        "        plt.subplot(2, 2, 3)\n",
        "        plt.plot(epochs_range, history['train_loss_t2'], 'r-', label='Train Loss T2')\n",
        "        plt.plot(epochs_range, history['val_loss_t2'], 'r--', label='Val Loss T2')\n",
        "        plt.title('Task 2 - Loss')\n",
        "        plt.xlabel('Epoch')\n",
        "        plt.ylabel('Loss')\n",
        "        plt.legend()\n",
        "        plt.grid(True)\n",
        "\n",
        "        # Task 2 - Accuracy (%)\n",
        "        plt.subplot(2, 2, 4)\n",
        "        plt.plot(epochs_range, [acc * 100 for acc in history['train_acc_t2']], 'm-', label='Train Acc T2')\n",
        "        plt.plot(epochs_range, [acc * 100 for acc in history['val_acc_t2']], 'm--', label='Val Acc T2')\n",
        "        plt.title('Task 2 - Accuracy')\n",
        "        plt.xlabel('Epoch')\n",
        "        plt.ylabel('Accuracy (%)')\n",
        "        plt.gca().yaxis.set_major_formatter(formatter)\n",
        "        plt.legend()\n",
        "        plt.grid(True)\n",
        "\n",
        "        plt.tight_layout(rect=[0, 0.03, 1, 0.98])\n",
        "        plt.show()\n",
        "\n",
        "        # Overall Loss\n",
        "        plt.figure(figsize=(10, 4))\n",
        "        plt.plot(epochs_range, history['train_loss'], 'k-', label='Overall Train Loss')\n",
        "        plt.plot(epochs_range, history['val_loss'], 'k--', label='Overall Val Loss')\n",
        "        plt.title(f'{title} - Overall Loss')\n",
        "        plt.xlabel('Epoch')\n",
        "        plt.ylabel('Loss')\n",
        "        plt.legend()\n",
        "        plt.grid(True)\n",
        "        plt.tight_layout()\n",
        "        plt.show()\n",
        "\n",
        "    else: # STL\n",
        "        plt.figure(figsize=(14, 5))\n",
        "        plt.suptitle(title, fontsize=16, y=1.02)\n",
        "\n",
        "        # Loss\n",
        "        plt.subplot(1, 2, 1)\n",
        "        plt.plot(epochs_range, history['train_loss'], 'b-', label='Train Loss')\n",
        "        plt.plot(epochs_range, history['val_loss'], 'b--', label='Val Loss')\n",
        "        plt.title('Loss')\n",
        "        plt.xlabel('Epoch')\n",
        "        plt.ylabel('Loss')\n",
        "        plt.legend()\n",
        "        plt.grid(True)\n",
        "\n",
        "        # Accuracy (%)\n",
        "        plt.subplot(1, 2, 2)\n",
        "        plt.plot(epochs_range, [acc * 100 for acc in history['train_acc']], 'g-', label='Train Acc')\n",
        "        plt.plot(epochs_range, [acc * 100 for acc in history['val_acc']], 'g--', label='Val Acc')\n",
        "        plt.title('Accuracy')\n",
        "        plt.xlabel('Epoch')\n",
        "        plt.ylabel('Accuracy (%)')\n",
        "        plt.gca().yaxis.set_major_formatter(formatter)\n",
        "        plt.legend()\n",
        "        plt.grid(True)\n",
        "\n",
        "        plt.tight_layout(rect=[0, 0.03, 1, 0.95])\n",
        "        plt.show()\n",
        "\n",
        "plot_history(history_hard_mtl, \"Hard-Parameter Sharing Learning Curves\", \"mtl\")\n",
        "plot_history(history_cs, \"Cross-Stitch Network Learning Curves\", \"mtl\")\n",
        "plot_history(history_stl_task1, \"STL on Task 1 Learning Curves\", \"stl\")\n",
        "plot_history(history_stl_task2, \"STL on Task 2 Learning Curves\", \"stl\")"
      ]
    },
    {
      "cell_type": "markdown",
      "metadata": {
        "id": "Ecf_qGZZqDgV"
      },
      "source": [
        "### 5.2. Alpha Coefficients Evolution"
      ]
    },
    {
      "cell_type": "code",
      "execution_count": null,
      "metadata": {
        "id": "o1Z6BVzfqdjT"
      },
      "outputs": [],
      "source": [
        "def plot_alpha_history(\n",
        "    alpha_history_cs1,\n",
        "    alpha_history_cs2,\n",
        "    alpha_history_cs3,\n",
        "    alpha_history_cs4,\n",
        "    alpha_history_cs5,\n",
        "    num_epochs):\n",
        "\n",
        "    \"\"\"Plots the evolution of alpha coefficients.\"\"\"\n",
        "    alphas_cs1_np = np.array(alpha_history_cs1)\n",
        "    alphas_cs2_np = np.array(alpha_history_cs2)\n",
        "    alphas_cs3_np = np.array(alpha_history_cs3)\n",
        "    alphas_cs4_np = np.array(alpha_history_cs4)\n",
        "    alphas_cs5_np = np.array(alpha_history_cs5)\n",
        "    epochs_range = range(1, num_epochs + 1)\n",
        "\n",
        "    # Plotting alpha values after pooling layer 1\n",
        "    plt.figure(figsize=(12, 8))\n",
        "    plt.suptitle(\"Cross-Stitch weights after 1st pooling layer\", fontsize=16)\n",
        "    labels = [r'$\\alpha_{11}$ (T1<-T1)', r'$\\alpha_{12}$ (T1<-T2)', r'$\\alpha_{21}$ (T2<-T1)', r'$\\alpha_{22}$ (T2<-T2)']\n",
        "    colors = ['blue', 'orange', 'green', 'red']\n",
        "    indices = [(0, 0), (0, 1), (1, 0), (1, 1)]\n",
        "\n",
        "    for i in range(4):\n",
        "        plt.subplot(2, 2, i + 1)\n",
        "        plt.plot(epochs_range, alphas_cs1_np[:, indices[i][0], indices[i][1]], label=labels[i], color=colors[i])\n",
        "        plt.xlabel(\"Epoch\")\n",
        "        plt.ylabel(\"Weight\")\n",
        "        plt.title(labels[i])\n",
        "        plt.legend()\n",
        "        plt.grid(True)\n",
        "        plt.ylim(-0.1, 1.1)\n",
        "\n",
        "    plt.tight_layout(rect=[0, 0, 1, 0.96])\n",
        "    plt.show()\n",
        "\n",
        "    # Plotting alpha values after pooling layer 2\n",
        "    plt.figure(figsize=(12, 8))\n",
        "    plt.suptitle(\"Cross-Stitch weights after 2nd pooling layer\", fontsize=16)\n",
        "\n",
        "    for i in range(4):\n",
        "        plt.subplot(2, 2, i + 1)\n",
        "        plt.plot(epochs_range, alphas_cs2_np[:, indices[i][0], indices[i][1]], label=labels[i], color=colors[i])\n",
        "        plt.xlabel(\"Epoch\")\n",
        "        plt.ylabel(\"Weight\")\n",
        "        plt.title(labels[i])\n",
        "        plt.legend()\n",
        "        plt.grid(True)\n",
        "        plt.ylim(-0.1, 1.1)\n",
        "    plt.tight_layout(rect=[0, 0, 1, 0.96])\n",
        "    plt.show()\n",
        "\n",
        "    # Plotting alpha values after pooling layer 3\n",
        "    plt.figure(figsize=(12, 8))\n",
        "    plt.suptitle(\"Cross-Stitch weights after 3th pooling layer\", fontsize=16)\n",
        "\n",
        "    for i in range(4):\n",
        "        plt.subplot(2, 2, i + 1)\n",
        "        plt.plot(epochs_range, alphas_cs3_np[:, indices[i][0], indices[i][1]], label=labels[i], color=colors[i])\n",
        "        plt.xlabel(\"Epoch\")\n",
        "        plt.ylabel(\"Weight\")\n",
        "        plt.title(labels[i])\n",
        "        plt.legend()\n",
        "        plt.grid(True)\n",
        "        plt.ylim(-0.1, 1.1)\n",
        "    plt.tight_layout(rect=[0, 0, 1, 0.96])\n",
        "    plt.show()\n",
        "\n",
        "    # Plotting alpha values after fully connected layer 1\n",
        "    plt.figure(figsize=(12, 8))\n",
        "    plt.suptitle(\"Cross-Stitch weights after 1st fully connected layer\", fontsize=16)\n",
        "\n",
        "    for i in range(4):\n",
        "        plt.subplot(2, 2, i + 1)\n",
        "        plt.plot(epochs_range, alphas_cs4_np[:, indices[i][0], indices[i][1]], label=labels[i], color=colors[i])\n",
        "        plt.xlabel(\"Epoch\")\n",
        "        plt.ylabel(\"Weight\")\n",
        "        plt.title(labels[i])\n",
        "        plt.legend()\n",
        "        plt.grid(True)\n",
        "        plt.ylim(-0.1, 1.1)\n",
        "    plt.tight_layout(rect=[0, 0, 1, 0.96])\n",
        "    plt.show()\n",
        "\n",
        "    # Plotting alpha values after fully connected layer 2\n",
        "    plt.figure(figsize=(12, 8))\n",
        "    plt.suptitle(\"Cross-Stitch weights after 2nd fully connected layerr\", fontsize=16)\n",
        "\n",
        "    for i in range(4):\n",
        "        plt.subplot(2, 2, i + 1)\n",
        "        plt.plot(epochs_range, alphas_cs5_np[:, indices[i][0], indices[i][1]], label=labels[i], color=colors[i])\n",
        "        plt.xlabel(\"Epoch\")\n",
        "        plt.ylabel(\"Weight\")\n",
        "        plt.title(labels[i])\n",
        "        plt.legend()\n",
        "        plt.grid(True)\n",
        "        plt.ylim(-0.1, 1.1)\n",
        "    plt.tight_layout(rect=[0, 0, 1, 0.96])\n",
        "    plt.show()\n",
        "\n",
        "plot_alpha_history(\n",
        "    alpha_history_list_cs[0],\n",
        "    alpha_history_list_cs[1],\n",
        "    alpha_history_list_cs[2],\n",
        "    alpha_history_list_cs[3],\n",
        "    alpha_history_list_cs[4],\n",
        "    NUM_EPOCHS)\n"
      ]
    },
    {
      "cell_type": "code",
      "execution_count": null,
      "metadata": {
        "id": "hF6QkLCeKvhs"
      },
      "outputs": [],
      "source": [
        "# Count the number of parameters in each model\n",
        "def count_parameters(model):\n",
        "    \"\"\"\n",
        "    Counts the number of trainable parameters in a PyTorch model.\n",
        "    \"\"\"\n",
        "    return sum(p.numel() for p in model.parameters() if p.requires_grad)\n",
        "\n",
        "\n",
        "# Print Summary Table\n",
        "print(f\"| Approach                  | Trainable Parameters                  |\")\n",
        "print(f\"|-------------------------- |---------------------------------------|\")\n",
        "print(f\"| Hard-Parameter sharing    | {count_parameters(model_hard_mtl):,}  \")\n",
        "print(f\"| Cross-Stitch Network      | {count_parameters(model_cs):,}        \")\n",
        "print(f\"| STL on Task 1             | {count_parameters(model_stl_task1):,} \")\n",
        "print(f\"| STL on Task 2             | {count_parameters(model_stl_task2):,} \")"
      ]
    },
    {
      "cell_type": "markdown",
      "metadata": {
        "id": "JD7G9ekAqsQt"
      },
      "source": [
        "### 5.3. Final Evaluation on Test Set\n",
        "We load the *best* saved version of each model (based on validation performance during training) and evaluate it on the test set. This gives us our final comparison metrics."
      ]
    },
    {
      "cell_type": "code",
      "execution_count": null,
      "metadata": {
        "id": "zTnu7RExrAxw"
      },
      "outputs": [],
      "source": [
        "print(\"\\n--- Final Evaluation on Test Set ---\\n\")\n",
        "\n",
        "print(\"\\nHard-Parameter sharing:\")\n",
        "# --- Load and Evaluate Hard MTL ---\n",
        "model_hard_mtl.load_state_dict(torch.load('best_alexnet_hard_mtl_model.pt', map_location=device))\n",
        "_, test_loss_t1_h, test_acc_t1_h, test_loss_t2_h, test_acc_t2_h = generic_evaluate_epoch_mtl(\n",
        "    model_hard_mtl, test_loader, criterion, device, None, phase=\"Test\"\n",
        ")\n",
        "\n",
        "print(\"\\nCross-Stitch Network:\\n\")\n",
        "# --- Load and Evaluate Cross-Stitch ---\n",
        "model_cs.load_state_dict(torch.load('best_alexnet_cs_model.pt', map_location=device))\n",
        "_, test_loss_t1_c, test_acc_t1_c, test_loss_t2_c, test_acc_t2_c = generic_evaluate_epoch_mtl(\n",
        "    model_cs, test_loader, criterion, device, None, phase=\"Test\"\n",
        ")\n",
        "\n",
        "print(\"\\nSTL on Task1:\\n\")\n",
        "# --- Load and Evaluate STL Task 1 ---\n",
        "model_stl_task1.load_state_dict(torch.load('best_alexnet_stl_task1_model.pt', map_location=device))\n",
        "test_loss_t1_s, test_acc_t1_s = generic_evaluate_epoch_stl(\n",
        "    model_stl_task1, test_loader, criterion, device, \"task1\", None, phase=\"Test\"\n",
        ")\n",
        "\n",
        "print(\"\\nSTL on Task2:\\n\")\n",
        "# --- Load and Evaluate STL Task 2 ---\n",
        "model_stl_task2.load_state_dict(torch.load('best_alexnet_stl_task2_model.pt', map_location=device))\n",
        "test_loss_t2_s, test_acc_t2_s = generic_evaluate_epoch_stl(\n",
        "    model_stl_task2, test_loader, criterion, device, \"task2\", None, phase=\"Test\"\n",
        ")"
      ]
    },
    {
      "cell_type": "markdown",
      "metadata": {
        "id": "idrRWlYr-Flr"
      },
      "source": [
        "## Conclusions\n",
        "\n",
        "This didactic exploration aimed to understand the mechanisms and behaviors of Single-Task Learning (STL) versus Multi-Task Learning (MTL) paradigms. The experiments were conducted on the CIFAR-10 dataset, using an AlexNet architecture, with a focus on comparing different MTL strategies against STL baselines for two derived tasks: Task 1 (10-class object classification) and Task 2 (4-class rotation classification).\n",
        "\n",
        "### Summary of Key Quantitative Findings from the Latest Execution\n",
        "\n",
        "Based on the analysis of the final evaluation results on the test set, the following observations were made regarding model performance:\n",
        "\n",
        "* **Performance on Task 1 (10-class Object Classification):**\n",
        "    * The STL model dedicated to T1 achieved an accuracy of **75.30%**.\n",
        "    * The MTL models demonstrated slightly improved performance:\n",
        "        * **Hard-Parameter Sharing** achieved **76.66% accuracy**.\n",
        "        * **Cross-Stitch Network** achieved **79.06% accuracy**, marking the best performance for T1 among the tested models.\n",
        "\n",
        "* **Performance on Task 2 (4-class Rotation Classification):**\n",
        "    * The STL model dedicated to T2 obtained an accuracy of **79.51%**.\n",
        "    * For this task, the MTL models also showed improvements:\n",
        "        * **Hard-Parameter Sharing** achieved **82.94% accuracy**.\n",
        "        * **Cross-Stitch Network** achieved **84.33% accuracy**, again representing the top performance for T2 among the tested models.\n",
        "\n",
        "### Analysis of Learning Curves and Cross-Stitch Network Behavior\n",
        "\n",
        "Further analysis of the training process and the internal dynamics of the Cross-Stitch Network provided qualitative insights:\n",
        "\n",
        "* **A. Learning Curve Observations:**\n",
        "    Looking at the learning curves revealed overfitting tendencies across all models. While MTL did not eliminate this issue, a notable observation is that STL models tended to show signs of overfitting earlier in the training process compared to the MTL models, including the Cross-Stitch network. This suggests that MTL might help in deferring the onset of overfitting, even if it does not fully resolve it.\n",
        "\n",
        "* **B. Cross-Stitch Network: $\\alpha$ Coefficient Dynamics:**\n",
        "    The $\\alpha$ coefficients, which control the degree of feature sharing between task-specific branches in the Cross-Stitch Network, showed distinct patterns across layers:\n",
        "    1.  **Post-Pooling Layers (Early Convolutional Stages):** In the early network layers, the branch for Task 1 (object classification) heavily utilized features from the branch for Task 2 (rotation classification). This indicates that Task 1 benefits from the more general, broad features that Task 2 identifies, which likely capture basic visual primitives useful for both tasks.\n",
        "    2.  **Post-Fully Connected Layers (Later Classification Stages):** The information sharing strategy shifted significantly in the deeper, classification-specific layers. Initially, both task branches utilized a mixture of features from each other. However, as training progressed and features became more task-specialized, the Task 1 branch increasingly relied on its own developed features. Conversely, the Task 2 branch began to leverage the specialized features developed by the Task 1 branch, reducing its reliance on its own.\n",
        "\n",
        "### Final Considerations\n",
        "\n",
        "The combined quantitative and qualitative results provide interesting, but not satisfactory, insights into MTL's efficacy in this specific setup. While the final test results show that MTL approaches, particularly the Cross-Stitch Network, perform slightly better than STL, the improvements are modest. The Cross-Stitch Network achieved the highest accuracy for both tasks, suggesting that adaptive sharing of features can yield some benefits even when tasks are not strongly correlated. Task 1 necessitates learning specific, detailed features for object discrimination, whereas Task 2 likely depends on more global, structural features related to image orientation.\n",
        "\n",
        "The behavior of the $\\alpha$ values in the Cross-Stitch Network offers a plausible hypothesis for how tasks *might* assist each other, potentially contributing to the slight advantages observed:\n",
        "* In the **early network layers**, Task 1's reliance on Task 2's features suggests that Task 2, by focusing on rotation, could encourage the learning of somewhat more robust or orientation-aware low-level features. These foundational features might offer a slightly better starting point for Task 1.\n",
        "* In the **later, fully connected layers**, the dynamic shift where Task 1 focuses on its own specialized features while Task 2 begins to leverage Task 1's features is intriguing. We can argue that knowing *what* an object is (features from Task 1) could aid in determining its rotation (Task 2).\n",
        "\n",
        "This suggests that even with moderately correlated tasks, an adaptive sharing mechanism like Cross-Stitch can find ways to combine learned knowledge. While this may act as a form of regularization, leading to the observed delay in overfitting and marginal gains in test accuracy, the overall benefit in terms of performance uplift remains limited in this experimental context."
      ]
    },
    {
      "cell_type": "markdown",
      "metadata": {
        "id": "-XJQ01-M-Flr"
      },
      "source": []
    }
  ],
  "metadata": {
    "accelerator": "GPU",
    "colab": {
      "gpuType": "T4",
      "provenance": [],
      "toc_visible": true
    },
    "kernelspec": {
      "display_name": "base",
      "language": "python",
      "name": "python3"
    },
    "language_info": {
      "codemirror_mode": {
        "name": "ipython",
        "version": 3
      },
      "file_extension": ".py",
      "mimetype": "text/x-python",
      "name": "python",
      "nbconvert_exporter": "python",
      "pygments_lexer": "ipython3",
      "version": "3.11.5"
    }
  },
  "nbformat": 4,
  "nbformat_minor": 0
}